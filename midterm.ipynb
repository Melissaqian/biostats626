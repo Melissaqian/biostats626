{
 "cells": [
  {
   "cell_type": "code",
   "execution_count": 1,
   "id": "a2de31e6",
   "metadata": {
    "ExecuteTime": {
     "end_time": "2023-04-14T18:39:32.211937Z",
     "start_time": "2023-04-14T18:39:30.380341Z"
    }
   },
   "outputs": [],
   "source": [
    "import pandas as pd\n",
    "import numpy as np\n",
    "import seaborn as sns\n",
    "import matplotlib as mpl\n",
    "import matplotlib.pyplot as plt"
   ]
  },
  {
   "cell_type": "code",
   "execution_count": 2,
   "id": "9ddac96d",
   "metadata": {
    "ExecuteTime": {
     "end_time": "2023-04-14T18:39:33.048165Z",
     "start_time": "2023-04-14T18:39:32.216998Z"
    }
   },
   "outputs": [],
   "source": [
    "train_df = pd.read_csv('data/training_data.txt', delimiter='\\t', header=0)"
   ]
  },
  {
   "cell_type": "code",
   "execution_count": 3,
   "id": "c85b6d86",
   "metadata": {
    "ExecuteTime": {
     "end_time": "2023-04-14T18:39:33.065186Z",
     "start_time": "2023-04-14T18:39:33.051839Z"
    }
   },
   "outputs": [
    {
     "data": {
      "text/plain": [
       "(7767, 563)"
      ]
     },
     "execution_count": 3,
     "metadata": {},
     "output_type": "execute_result"
    }
   ],
   "source": [
    "train_df.shape"
   ]
  },
  {
   "cell_type": "code",
   "execution_count": 4,
   "id": "efee7f96",
   "metadata": {
    "ExecuteTime": {
     "end_time": "2023-04-14T18:39:33.102376Z",
     "start_time": "2023-04-14T18:39:33.067641Z"
    }
   },
   "outputs": [
    {
     "data": {
      "text/html": [
       "<div>\n",
       "<style scoped>\n",
       "    .dataframe tbody tr th:only-of-type {\n",
       "        vertical-align: middle;\n",
       "    }\n",
       "\n",
       "    .dataframe tbody tr th {\n",
       "        vertical-align: top;\n",
       "    }\n",
       "\n",
       "    .dataframe thead th {\n",
       "        text-align: right;\n",
       "    }\n",
       "</style>\n",
       "<table border=\"1\" class=\"dataframe\">\n",
       "  <thead>\n",
       "    <tr style=\"text-align: right;\">\n",
       "      <th></th>\n",
       "      <th>subject</th>\n",
       "      <th>activity</th>\n",
       "      <th>F1</th>\n",
       "      <th>F2</th>\n",
       "      <th>F3</th>\n",
       "      <th>F4</th>\n",
       "      <th>F5</th>\n",
       "      <th>F6</th>\n",
       "      <th>F7</th>\n",
       "      <th>F8</th>\n",
       "      <th>...</th>\n",
       "      <th>F552</th>\n",
       "      <th>F553</th>\n",
       "      <th>F554</th>\n",
       "      <th>F555</th>\n",
       "      <th>F556</th>\n",
       "      <th>F557</th>\n",
       "      <th>F558</th>\n",
       "      <th>F559</th>\n",
       "      <th>F560</th>\n",
       "      <th>F561</th>\n",
       "    </tr>\n",
       "  </thead>\n",
       "  <tbody>\n",
       "    <tr>\n",
       "      <th>0</th>\n",
       "      <td>1</td>\n",
       "      <td>5</td>\n",
       "      <td>0.043580</td>\n",
       "      <td>-0.005970</td>\n",
       "      <td>-0.035054</td>\n",
       "      <td>-0.995381</td>\n",
       "      <td>-0.988366</td>\n",
       "      <td>-0.937382</td>\n",
       "      <td>-0.995007</td>\n",
       "      <td>-0.988816</td>\n",
       "      <td>...</td>\n",
       "      <td>-0.012236</td>\n",
       "      <td>-0.314848</td>\n",
       "      <td>-0.713308</td>\n",
       "      <td>-0.112754</td>\n",
       "      <td>0.030400</td>\n",
       "      <td>-0.464761</td>\n",
       "      <td>-0.018446</td>\n",
       "      <td>-0.841559</td>\n",
       "      <td>0.179913</td>\n",
       "      <td>-0.051718</td>\n",
       "    </tr>\n",
       "    <tr>\n",
       "      <th>1</th>\n",
       "      <td>1</td>\n",
       "      <td>5</td>\n",
       "      <td>0.039480</td>\n",
       "      <td>-0.002131</td>\n",
       "      <td>-0.029067</td>\n",
       "      <td>-0.998348</td>\n",
       "      <td>-0.982945</td>\n",
       "      <td>-0.971273</td>\n",
       "      <td>-0.998702</td>\n",
       "      <td>-0.983315</td>\n",
       "      <td>...</td>\n",
       "      <td>0.202804</td>\n",
       "      <td>-0.603199</td>\n",
       "      <td>-0.860677</td>\n",
       "      <td>0.053477</td>\n",
       "      <td>-0.007435</td>\n",
       "      <td>-0.732626</td>\n",
       "      <td>0.703511</td>\n",
       "      <td>-0.845092</td>\n",
       "      <td>0.180261</td>\n",
       "      <td>-0.047436</td>\n",
       "    </tr>\n",
       "    <tr>\n",
       "      <th>2</th>\n",
       "      <td>1</td>\n",
       "      <td>5</td>\n",
       "      <td>0.039978</td>\n",
       "      <td>-0.005153</td>\n",
       "      <td>-0.022651</td>\n",
       "      <td>-0.995482</td>\n",
       "      <td>-0.977314</td>\n",
       "      <td>-0.984760</td>\n",
       "      <td>-0.996415</td>\n",
       "      <td>-0.975835</td>\n",
       "      <td>...</td>\n",
       "      <td>0.440079</td>\n",
       "      <td>-0.404427</td>\n",
       "      <td>-0.761847</td>\n",
       "      <td>-0.118559</td>\n",
       "      <td>0.177899</td>\n",
       "      <td>0.100699</td>\n",
       "      <td>0.808529</td>\n",
       "      <td>-0.849230</td>\n",
       "      <td>0.180610</td>\n",
       "      <td>-0.042271</td>\n",
       "    </tr>\n",
       "    <tr>\n",
       "      <th>3</th>\n",
       "      <td>1</td>\n",
       "      <td>5</td>\n",
       "      <td>0.039785</td>\n",
       "      <td>-0.011809</td>\n",
       "      <td>-0.028916</td>\n",
       "      <td>-0.996194</td>\n",
       "      <td>-0.988569</td>\n",
       "      <td>-0.993256</td>\n",
       "      <td>-0.996994</td>\n",
       "      <td>-0.988526</td>\n",
       "      <td>...</td>\n",
       "      <td>0.430891</td>\n",
       "      <td>-0.138373</td>\n",
       "      <td>-0.491604</td>\n",
       "      <td>-0.036788</td>\n",
       "      <td>-0.012892</td>\n",
       "      <td>0.640011</td>\n",
       "      <td>-0.485366</td>\n",
       "      <td>-0.848947</td>\n",
       "      <td>0.181907</td>\n",
       "      <td>-0.040826</td>\n",
       "    </tr>\n",
       "    <tr>\n",
       "      <th>4</th>\n",
       "      <td>1</td>\n",
       "      <td>5</td>\n",
       "      <td>0.038758</td>\n",
       "      <td>-0.002289</td>\n",
       "      <td>-0.023863</td>\n",
       "      <td>-0.998241</td>\n",
       "      <td>-0.986774</td>\n",
       "      <td>-0.993115</td>\n",
       "      <td>-0.998216</td>\n",
       "      <td>-0.986479</td>\n",
       "      <td>...</td>\n",
       "      <td>0.137735</td>\n",
       "      <td>-0.366214</td>\n",
       "      <td>-0.702490</td>\n",
       "      <td>0.123320</td>\n",
       "      <td>0.122542</td>\n",
       "      <td>0.693578</td>\n",
       "      <td>-0.615971</td>\n",
       "      <td>-0.848164</td>\n",
       "      <td>0.185124</td>\n",
       "      <td>-0.037080</td>\n",
       "    </tr>\n",
       "    <tr>\n",
       "      <th>...</th>\n",
       "      <td>...</td>\n",
       "      <td>...</td>\n",
       "      <td>...</td>\n",
       "      <td>...</td>\n",
       "      <td>...</td>\n",
       "      <td>...</td>\n",
       "      <td>...</td>\n",
       "      <td>...</td>\n",
       "      <td>...</td>\n",
       "      <td>...</td>\n",
       "      <td>...</td>\n",
       "      <td>...</td>\n",
       "      <td>...</td>\n",
       "      <td>...</td>\n",
       "      <td>...</td>\n",
       "      <td>...</td>\n",
       "      <td>...</td>\n",
       "      <td>...</td>\n",
       "      <td>...</td>\n",
       "      <td>...</td>\n",
       "      <td>...</td>\n",
       "    </tr>\n",
       "    <tr>\n",
       "      <th>7762</th>\n",
       "      <td>30</td>\n",
       "      <td>2</td>\n",
       "      <td>0.048048</td>\n",
       "      <td>-0.042445</td>\n",
       "      <td>-0.065884</td>\n",
       "      <td>-0.195448</td>\n",
       "      <td>-0.278326</td>\n",
       "      <td>-0.219954</td>\n",
       "      <td>-0.282233</td>\n",
       "      <td>-0.305861</td>\n",
       "      <td>...</td>\n",
       "      <td>-0.008381</td>\n",
       "      <td>-0.596760</td>\n",
       "      <td>-0.879026</td>\n",
       "      <td>-0.190437</td>\n",
       "      <td>0.829718</td>\n",
       "      <td>0.206972</td>\n",
       "      <td>-0.425619</td>\n",
       "      <td>-0.792292</td>\n",
       "      <td>0.238580</td>\n",
       "      <td>0.056020</td>\n",
       "    </tr>\n",
       "    <tr>\n",
       "      <th>7763</th>\n",
       "      <td>30</td>\n",
       "      <td>2</td>\n",
       "      <td>0.037639</td>\n",
       "      <td>0.006430</td>\n",
       "      <td>-0.044345</td>\n",
       "      <td>-0.235372</td>\n",
       "      <td>-0.302680</td>\n",
       "      <td>-0.232843</td>\n",
       "      <td>-0.322483</td>\n",
       "      <td>-0.354464</td>\n",
       "      <td>...</td>\n",
       "      <td>0.209452</td>\n",
       "      <td>-0.404418</td>\n",
       "      <td>-0.684496</td>\n",
       "      <td>0.064907</td>\n",
       "      <td>0.875679</td>\n",
       "      <td>-0.879033</td>\n",
       "      <td>0.400219</td>\n",
       "      <td>-0.772288</td>\n",
       "      <td>0.252653</td>\n",
       "      <td>0.056252</td>\n",
       "    </tr>\n",
       "    <tr>\n",
       "      <th>7764</th>\n",
       "      <td>30</td>\n",
       "      <td>2</td>\n",
       "      <td>0.037451</td>\n",
       "      <td>-0.002724</td>\n",
       "      <td>0.021009</td>\n",
       "      <td>-0.218281</td>\n",
       "      <td>-0.378082</td>\n",
       "      <td>-0.076950</td>\n",
       "      <td>-0.304446</td>\n",
       "      <td>-0.400661</td>\n",
       "      <td>...</td>\n",
       "      <td>0.237003</td>\n",
       "      <td>0.000207</td>\n",
       "      <td>-0.317314</td>\n",
       "      <td>0.052806</td>\n",
       "      <td>-0.266724</td>\n",
       "      <td>0.864404</td>\n",
       "      <td>0.701169</td>\n",
       "      <td>-0.779566</td>\n",
       "      <td>0.249121</td>\n",
       "      <td>0.047071</td>\n",
       "    </tr>\n",
       "    <tr>\n",
       "      <th>7765</th>\n",
       "      <td>30</td>\n",
       "      <td>2</td>\n",
       "      <td>0.044011</td>\n",
       "      <td>-0.004536</td>\n",
       "      <td>-0.051242</td>\n",
       "      <td>-0.219202</td>\n",
       "      <td>-0.383350</td>\n",
       "      <td>-0.081035</td>\n",
       "      <td>-0.310419</td>\n",
       "      <td>-0.380233</td>\n",
       "      <td>...</td>\n",
       "      <td>0.069366</td>\n",
       "      <td>0.037919</td>\n",
       "      <td>-0.356579</td>\n",
       "      <td>-0.101360</td>\n",
       "      <td>0.700740</td>\n",
       "      <td>0.936674</td>\n",
       "      <td>-0.589479</td>\n",
       "      <td>-0.785603</td>\n",
       "      <td>0.246409</td>\n",
       "      <td>0.031700</td>\n",
       "    </tr>\n",
       "    <tr>\n",
       "      <th>7766</th>\n",
       "      <td>30</td>\n",
       "      <td>2</td>\n",
       "      <td>0.068954</td>\n",
       "      <td>0.001810</td>\n",
       "      <td>-0.080323</td>\n",
       "      <td>-0.269336</td>\n",
       "      <td>-0.366553</td>\n",
       "      <td>-0.147294</td>\n",
       "      <td>-0.377332</td>\n",
       "      <td>-0.360597</td>\n",
       "      <td>...</td>\n",
       "      <td>0.002496</td>\n",
       "      <td>-0.400831</td>\n",
       "      <td>-0.742972</td>\n",
       "      <td>-0.280088</td>\n",
       "      <td>-0.007739</td>\n",
       "      <td>-0.056088</td>\n",
       "      <td>-0.616956</td>\n",
       "      <td>-0.783693</td>\n",
       "      <td>0.246785</td>\n",
       "      <td>0.042981</td>\n",
       "    </tr>\n",
       "  </tbody>\n",
       "</table>\n",
       "<p>7767 rows × 563 columns</p>\n",
       "</div>"
      ],
      "text/plain": [
       "      subject  activity        F1        F2        F3        F4        F5  \\\n",
       "0           1         5  0.043580 -0.005970 -0.035054 -0.995381 -0.988366   \n",
       "1           1         5  0.039480 -0.002131 -0.029067 -0.998348 -0.982945   \n",
       "2           1         5  0.039978 -0.005153 -0.022651 -0.995482 -0.977314   \n",
       "3           1         5  0.039785 -0.011809 -0.028916 -0.996194 -0.988569   \n",
       "4           1         5  0.038758 -0.002289 -0.023863 -0.998241 -0.986774   \n",
       "...       ...       ...       ...       ...       ...       ...       ...   \n",
       "7762       30         2  0.048048 -0.042445 -0.065884 -0.195448 -0.278326   \n",
       "7763       30         2  0.037639  0.006430 -0.044345 -0.235372 -0.302680   \n",
       "7764       30         2  0.037451 -0.002724  0.021009 -0.218281 -0.378082   \n",
       "7765       30         2  0.044011 -0.004536 -0.051242 -0.219202 -0.383350   \n",
       "7766       30         2  0.068954  0.001810 -0.080323 -0.269336 -0.366553   \n",
       "\n",
       "            F6        F7        F8  ...      F552      F553      F554  \\\n",
       "0    -0.937382 -0.995007 -0.988816  ... -0.012236 -0.314848 -0.713308   \n",
       "1    -0.971273 -0.998702 -0.983315  ...  0.202804 -0.603199 -0.860677   \n",
       "2    -0.984760 -0.996415 -0.975835  ...  0.440079 -0.404427 -0.761847   \n",
       "3    -0.993256 -0.996994 -0.988526  ...  0.430891 -0.138373 -0.491604   \n",
       "4    -0.993115 -0.998216 -0.986479  ...  0.137735 -0.366214 -0.702490   \n",
       "...        ...       ...       ...  ...       ...       ...       ...   \n",
       "7762 -0.219954 -0.282233 -0.305861  ... -0.008381 -0.596760 -0.879026   \n",
       "7763 -0.232843 -0.322483 -0.354464  ...  0.209452 -0.404418 -0.684496   \n",
       "7764 -0.076950 -0.304446 -0.400661  ...  0.237003  0.000207 -0.317314   \n",
       "7765 -0.081035 -0.310419 -0.380233  ...  0.069366  0.037919 -0.356579   \n",
       "7766 -0.147294 -0.377332 -0.360597  ...  0.002496 -0.400831 -0.742972   \n",
       "\n",
       "          F555      F556      F557      F558      F559      F560      F561  \n",
       "0    -0.112754  0.030400 -0.464761 -0.018446 -0.841559  0.179913 -0.051718  \n",
       "1     0.053477 -0.007435 -0.732626  0.703511 -0.845092  0.180261 -0.047436  \n",
       "2    -0.118559  0.177899  0.100699  0.808529 -0.849230  0.180610 -0.042271  \n",
       "3    -0.036788 -0.012892  0.640011 -0.485366 -0.848947  0.181907 -0.040826  \n",
       "4     0.123320  0.122542  0.693578 -0.615971 -0.848164  0.185124 -0.037080  \n",
       "...        ...       ...       ...       ...       ...       ...       ...  \n",
       "7762 -0.190437  0.829718  0.206972 -0.425619 -0.792292  0.238580  0.056020  \n",
       "7763  0.064907  0.875679 -0.879033  0.400219 -0.772288  0.252653  0.056252  \n",
       "7764  0.052806 -0.266724  0.864404  0.701169 -0.779566  0.249121  0.047071  \n",
       "7765 -0.101360  0.700740  0.936674 -0.589479 -0.785603  0.246409  0.031700  \n",
       "7766 -0.280088 -0.007739 -0.056088 -0.616956 -0.783693  0.246785  0.042981  \n",
       "\n",
       "[7767 rows x 563 columns]"
      ]
     },
     "execution_count": 4,
     "metadata": {},
     "output_type": "execute_result"
    }
   ],
   "source": [
    "train_df"
   ]
  },
  {
   "cell_type": "code",
   "execution_count": 5,
   "id": "d41268e4",
   "metadata": {
    "ExecuteTime": {
     "end_time": "2023-04-14T18:39:33.114924Z",
     "start_time": "2023-04-14T18:39:33.105288Z"
    }
   },
   "outputs": [
    {
     "data": {
      "text/plain": [
       "array([ 1,  3,  5,  6,  7,  8, 11, 14, 15, 16, 17, 19, 21, 22, 23, 25, 26,\n",
       "       27, 28, 29, 30])"
      ]
     },
     "execution_count": 5,
     "metadata": {},
     "output_type": "execute_result"
    }
   ],
   "source": [
    "train_df['subject'].unique()"
   ]
  },
  {
   "cell_type": "code",
   "execution_count": 6,
   "id": "9612d765",
   "metadata": {
    "ExecuteTime": {
     "end_time": "2023-04-14T18:39:33.123199Z",
     "start_time": "2023-04-14T18:39:33.117414Z"
    }
   },
   "outputs": [
    {
     "data": {
      "text/plain": [
       "array([ 5,  7,  4,  8, 11,  6, 10,  9, 12,  1,  3,  2])"
      ]
     },
     "execution_count": 6,
     "metadata": {},
     "output_type": "execute_result"
    }
   ],
   "source": [
    "train_df['activity'].unique()"
   ]
  },
  {
   "cell_type": "code",
   "execution_count": 7,
   "id": "d610b00e",
   "metadata": {
    "ExecuteTime": {
     "end_time": "2023-04-14T18:39:33.459079Z",
     "start_time": "2023-04-14T18:39:33.126890Z"
    }
   },
   "outputs": [],
   "source": [
    "test_df = pd.read_csv('data/test_data.txt', delimiter='\\t', header=0)"
   ]
  },
  {
   "cell_type": "code",
   "execution_count": 8,
   "id": "8784226a",
   "metadata": {
    "ExecuteTime": {
     "end_time": "2023-04-14T18:39:33.481566Z",
     "start_time": "2023-04-14T18:39:33.463904Z"
    }
   },
   "outputs": [
    {
     "data": {
      "text/html": [
       "<div>\n",
       "<style scoped>\n",
       "    .dataframe tbody tr th:only-of-type {\n",
       "        vertical-align: middle;\n",
       "    }\n",
       "\n",
       "    .dataframe tbody tr th {\n",
       "        vertical-align: top;\n",
       "    }\n",
       "\n",
       "    .dataframe thead th {\n",
       "        text-align: right;\n",
       "    }\n",
       "</style>\n",
       "<table border=\"1\" class=\"dataframe\">\n",
       "  <thead>\n",
       "    <tr style=\"text-align: right;\">\n",
       "      <th></th>\n",
       "      <th>subject</th>\n",
       "      <th>F1</th>\n",
       "      <th>F2</th>\n",
       "      <th>F3</th>\n",
       "      <th>F4</th>\n",
       "      <th>F5</th>\n",
       "      <th>F6</th>\n",
       "      <th>F7</th>\n",
       "      <th>F8</th>\n",
       "      <th>F9</th>\n",
       "      <th>...</th>\n",
       "      <th>F552</th>\n",
       "      <th>F553</th>\n",
       "      <th>F554</th>\n",
       "      <th>F555</th>\n",
       "      <th>F556</th>\n",
       "      <th>F557</th>\n",
       "      <th>F558</th>\n",
       "      <th>F559</th>\n",
       "      <th>F560</th>\n",
       "      <th>F561</th>\n",
       "    </tr>\n",
       "  </thead>\n",
       "  <tbody>\n",
       "    <tr>\n",
       "      <th>0</th>\n",
       "      <td>2</td>\n",
       "      <td>0.030914</td>\n",
       "      <td>-0.008927</td>\n",
       "      <td>0.040382</td>\n",
       "      <td>-0.938504</td>\n",
       "      <td>-0.944626</td>\n",
       "      <td>-0.759334</td>\n",
       "      <td>-0.952398</td>\n",
       "      <td>-0.950281</td>\n",
       "      <td>-0.802483</td>\n",
       "      <td>...</td>\n",
       "      <td>0.122830</td>\n",
       "      <td>-0.345684</td>\n",
       "      <td>-0.709087</td>\n",
       "      <td>0.006462</td>\n",
       "      <td>0.162920</td>\n",
       "      <td>-0.825886</td>\n",
       "      <td>0.271151</td>\n",
       "      <td>-0.720559</td>\n",
       "      <td>0.276779</td>\n",
       "      <td>-0.051074</td>\n",
       "    </tr>\n",
       "    <tr>\n",
       "      <th>1</th>\n",
       "      <td>2</td>\n",
       "      <td>0.042548</td>\n",
       "      <td>0.001079</td>\n",
       "      <td>-0.026236</td>\n",
       "      <td>-0.975516</td>\n",
       "      <td>-0.977502</td>\n",
       "      <td>-0.960146</td>\n",
       "      <td>-0.986694</td>\n",
       "      <td>-0.978983</td>\n",
       "      <td>-0.966820</td>\n",
       "      <td>...</td>\n",
       "      <td>-0.314688</td>\n",
       "      <td>-0.142804</td>\n",
       "      <td>-0.600867</td>\n",
       "      <td>-0.083495</td>\n",
       "      <td>0.017500</td>\n",
       "      <td>-0.434375</td>\n",
       "      <td>0.920593</td>\n",
       "      <td>-0.698684</td>\n",
       "      <td>0.281322</td>\n",
       "      <td>-0.076825</td>\n",
       "    </tr>\n",
       "    <tr>\n",
       "      <th>2</th>\n",
       "      <td>2</td>\n",
       "      <td>0.038297</td>\n",
       "      <td>-0.011660</td>\n",
       "      <td>-0.025643</td>\n",
       "      <td>-0.993922</td>\n",
       "      <td>-0.979215</td>\n",
       "      <td>-0.973030</td>\n",
       "      <td>-0.994298</td>\n",
       "      <td>-0.980535</td>\n",
       "      <td>-0.977508</td>\n",
       "      <td>...</td>\n",
       "      <td>0.114730</td>\n",
       "      <td>-0.209525</td>\n",
       "      <td>-0.645500</td>\n",
       "      <td>-0.034956</td>\n",
       "      <td>0.202302</td>\n",
       "      <td>0.064103</td>\n",
       "      <td>0.145068</td>\n",
       "      <td>-0.703355</td>\n",
       "      <td>0.280062</td>\n",
       "      <td>-0.072302</td>\n",
       "    </tr>\n",
       "    <tr>\n",
       "      <th>3</th>\n",
       "      <td>2</td>\n",
       "      <td>0.036205</td>\n",
       "      <td>-0.018148</td>\n",
       "      <td>-0.025240</td>\n",
       "      <td>-0.994845</td>\n",
       "      <td>-0.981534</td>\n",
       "      <td>-0.976175</td>\n",
       "      <td>-0.995169</td>\n",
       "      <td>-0.983020</td>\n",
       "      <td>-0.980785</td>\n",
       "      <td>...</td>\n",
       "      <td>0.164515</td>\n",
       "      <td>-0.359352</td>\n",
       "      <td>-0.738474</td>\n",
       "      <td>-0.017067</td>\n",
       "      <td>0.154438</td>\n",
       "      <td>0.340134</td>\n",
       "      <td>0.296407</td>\n",
       "      <td>-0.699545</td>\n",
       "      <td>0.284093</td>\n",
       "      <td>-0.070079</td>\n",
       "    </tr>\n",
       "    <tr>\n",
       "      <th>4</th>\n",
       "      <td>2</td>\n",
       "      <td>0.038034</td>\n",
       "      <td>-0.013437</td>\n",
       "      <td>-0.032899</td>\n",
       "      <td>-0.993955</td>\n",
       "      <td>-0.977493</td>\n",
       "      <td>-0.984290</td>\n",
       "      <td>-0.994006</td>\n",
       "      <td>-0.977354</td>\n",
       "      <td>-0.985899</td>\n",
       "      <td>...</td>\n",
       "      <td>-0.056085</td>\n",
       "      <td>-0.544467</td>\n",
       "      <td>-0.846150</td>\n",
       "      <td>-0.002223</td>\n",
       "      <td>-0.040046</td>\n",
       "      <td>0.736715</td>\n",
       "      <td>-0.118545</td>\n",
       "      <td>-0.692849</td>\n",
       "      <td>0.290701</td>\n",
       "      <td>-0.066849</td>\n",
       "    </tr>\n",
       "  </tbody>\n",
       "</table>\n",
       "<p>5 rows × 562 columns</p>\n",
       "</div>"
      ],
      "text/plain": [
       "   subject        F1        F2        F3        F4        F5        F6  \\\n",
       "0        2  0.030914 -0.008927  0.040382 -0.938504 -0.944626 -0.759334   \n",
       "1        2  0.042548  0.001079 -0.026236 -0.975516 -0.977502 -0.960146   \n",
       "2        2  0.038297 -0.011660 -0.025643 -0.993922 -0.979215 -0.973030   \n",
       "3        2  0.036205 -0.018148 -0.025240 -0.994845 -0.981534 -0.976175   \n",
       "4        2  0.038034 -0.013437 -0.032899 -0.993955 -0.977493 -0.984290   \n",
       "\n",
       "         F7        F8        F9  ...      F552      F553      F554      F555  \\\n",
       "0 -0.952398 -0.950281 -0.802483  ...  0.122830 -0.345684 -0.709087  0.006462   \n",
       "1 -0.986694 -0.978983 -0.966820  ... -0.314688 -0.142804 -0.600867 -0.083495   \n",
       "2 -0.994298 -0.980535 -0.977508  ...  0.114730 -0.209525 -0.645500 -0.034956   \n",
       "3 -0.995169 -0.983020 -0.980785  ...  0.164515 -0.359352 -0.738474 -0.017067   \n",
       "4 -0.994006 -0.977354 -0.985899  ... -0.056085 -0.544467 -0.846150 -0.002223   \n",
       "\n",
       "       F556      F557      F558      F559      F560      F561  \n",
       "0  0.162920 -0.825886  0.271151 -0.720559  0.276779 -0.051074  \n",
       "1  0.017500 -0.434375  0.920593 -0.698684  0.281322 -0.076825  \n",
       "2  0.202302  0.064103  0.145068 -0.703355  0.280062 -0.072302  \n",
       "3  0.154438  0.340134  0.296407 -0.699545  0.284093 -0.070079  \n",
       "4 -0.040046  0.736715 -0.118545 -0.692849  0.290701 -0.066849  \n",
       "\n",
       "[5 rows x 562 columns]"
      ]
     },
     "execution_count": 8,
     "metadata": {},
     "output_type": "execute_result"
    }
   ],
   "source": [
    "test_df.head()"
   ]
  },
  {
   "cell_type": "code",
   "execution_count": 9,
   "id": "ff239c4a",
   "metadata": {
    "ExecuteTime": {
     "end_time": "2023-04-14T18:39:33.498992Z",
     "start_time": "2023-04-14T18:39:33.487047Z"
    }
   },
   "outputs": [
    {
     "data": {
      "text/plain": [
       "array([ 2,  4,  9, 10, 12, 13, 18, 20, 24])"
      ]
     },
     "execution_count": 9,
     "metadata": {},
     "output_type": "execute_result"
    }
   ],
   "source": [
    "test_df['subject'].unique()"
   ]
  },
  {
   "cell_type": "code",
   "execution_count": 10,
   "id": "c615e4dc",
   "metadata": {
    "ExecuteTime": {
     "end_time": "2023-04-14T18:39:33.508025Z",
     "start_time": "2023-04-14T18:39:33.502331Z"
    }
   },
   "outputs": [
    {
     "data": {
      "text/plain": [
       "(3162, 562)"
      ]
     },
     "execution_count": 10,
     "metadata": {},
     "output_type": "execute_result"
    }
   ],
   "source": [
    "test_df.shape"
   ]
  },
  {
   "cell_type": "code",
   "execution_count": 11,
   "id": "e84aed98",
   "metadata": {
    "ExecuteTime": {
     "end_time": "2023-04-14T18:39:33.571543Z",
     "start_time": "2023-04-14T18:39:33.510627Z"
    }
   },
   "outputs": [],
   "source": [
    "binary_df = train_df.copy()"
   ]
  },
  {
   "cell_type": "code",
   "execution_count": 12,
   "id": "2527bf56",
   "metadata": {
    "ExecuteTime": {
     "end_time": "2023-04-14T18:39:33.589299Z",
     "start_time": "2023-04-14T18:39:33.578196Z"
    }
   },
   "outputs": [],
   "source": [
    "# replace dynamic postures with 1 and all other with 0\n",
    "binary_df['activity'] = binary_df['activity'].apply(lambda x: 1 if x in [1, 2, 3] else 0)"
   ]
  },
  {
   "cell_type": "code",
   "execution_count": 13,
   "id": "56e99fbc",
   "metadata": {
    "ExecuteTime": {
     "end_time": "2023-04-14T18:39:33.737457Z",
     "start_time": "2023-04-14T18:39:33.592152Z"
    }
   },
   "outputs": [
    {
     "name": "stderr",
     "output_type": "stream",
     "text": [
      "/Users/melissawang/opt/anaconda3/lib/python3.8/site-packages/seaborn/_decorators.py:36: FutureWarning: Pass the following variable as a keyword arg: x. From version 0.12, the only valid positional argument will be `data`, and passing other arguments without an explicit keyword will result in an error or misinterpretation.\n",
      "  warnings.warn(\n"
     ]
    },
    {
     "data": {
      "image/png": "[encoded data removed]",
      "text/plain": [
       "<Figure size 432x288 with 1 Axes>"
      ]
     },
     "metadata": {
      "needs_background": "light"
     },
     "output_type": "display_data"
    }
   ],
   "source": [
    "sns.countplot('activity',data=binary_df)\n",
    "plt.show()"
   ]
  },
  {
   "cell_type": "code",
   "execution_count": 14,
   "id": "dbb58227",
   "metadata": {
    "ExecuteTime": {
     "end_time": "2023-04-14T18:39:33.774385Z",
     "start_time": "2023-04-14T18:39:33.740398Z"
    }
   },
   "outputs": [],
   "source": [
    "multiclass_df = train_df.copy()"
   ]
  },
  {
   "cell_type": "code",
   "execution_count": 15,
   "id": "a560ff1c",
   "metadata": {
    "ExecuteTime": {
     "end_time": "2023-04-14T18:39:33.791303Z",
     "start_time": "2023-04-14T18:39:33.778933Z"
    }
   },
   "outputs": [],
   "source": [
    "# replace transition postures with 7\n",
    "multiclass_df['activity'] = multiclass_df['activity'].apply(lambda x: 7 if x in [8, 9, 10, 11, 12] else x)"
   ]
  },
  {
   "cell_type": "code",
   "execution_count": 16,
   "id": "2aea7b4a",
   "metadata": {
    "ExecuteTime": {
     "end_time": "2023-04-14T18:39:33.800479Z",
     "start_time": "2023-04-14T18:39:33.794074Z"
    }
   },
   "outputs": [
    {
     "data": {
      "text/plain": [
       "array([5, 7, 4, 6, 1, 3, 2])"
      ]
     },
     "execution_count": 16,
     "metadata": {},
     "output_type": "execute_result"
    }
   ],
   "source": [
    "multiclass_df['activity'].unique()"
   ]
  },
  {
   "cell_type": "code",
   "execution_count": 17,
   "id": "ad2b6595",
   "metadata": {
    "ExecuteTime": {
     "end_time": "2023-04-14T18:39:33.938829Z",
     "start_time": "2023-04-14T18:39:33.803245Z"
    }
   },
   "outputs": [
    {
     "name": "stderr",
     "output_type": "stream",
     "text": [
      "/Users/melissawang/opt/anaconda3/lib/python3.8/site-packages/seaborn/_decorators.py:36: FutureWarning: Pass the following variable as a keyword arg: x. From version 0.12, the only valid positional argument will be `data`, and passing other arguments without an explicit keyword will result in an error or misinterpretation.\n",
      "  warnings.warn(\n"
     ]
    },
    {
     "data": {
      "image/png": "[encoded data removed]",
      "text/plain": [
       "<Figure size 432x288 with 1 Axes>"
      ]
     },
     "metadata": {
      "needs_background": "light"
     },
     "output_type": "display_data"
    }
   ],
   "source": [
    "sns.countplot('activity',data=multiclass_df)\n",
    "plt.show()"
   ]
  },
  {
   "cell_type": "code",
   "execution_count": 224,
   "id": "688a7add",
   "metadata": {
    "ExecuteTime": {
     "end_time": "2023-04-15T01:26:44.251354Z",
     "start_time": "2023-04-15T01:26:44.209820Z"
    }
   },
   "outputs": [],
   "source": [
    "from sklearn.ensemble import RandomForestClassifier\n",
    "from sklearn.model_selection import GridSearchCV\n",
    "from sklearn.model_selection import KFold\n",
    "from sklearn.linear_model import LogisticRegression\n",
    "import xgboost as xgb"
   ]
  },
  {
   "cell_type": "code",
   "execution_count": 35,
   "id": "67a88197",
   "metadata": {
    "ExecuteTime": {
     "end_time": "2023-04-14T18:40:11.833583Z",
     "start_time": "2023-04-14T18:40:11.828761Z"
    }
   },
   "outputs": [],
   "source": [
    "from sklearn.model_selection import train_test_split\n",
    "from sklearn import metrics\n",
    "from sklearn.metrics import accuracy_score\n",
    "from sklearn.model_selection import cross_val_score"
   ]
  },
  {
   "cell_type": "markdown",
   "id": "577c6b31",
   "metadata": {},
   "source": [
    "## Binary Task"
   ]
  },
  {
   "cell_type": "code",
   "execution_count": 20,
   "id": "e37ff9d5",
   "metadata": {
    "ExecuteTime": {
     "end_time": "2023-04-14T18:39:34.340451Z",
     "start_time": "2023-04-14T18:39:34.266817Z"
    }
   },
   "outputs": [],
   "source": [
    "X_b = binary_df.drop('activity', axis=1)\n",
    "y_b = binary_df['activity']\n",
    "X_train_b, X_test_b, y_train_b, y_test_b = train_test_split(X_b, y_b, test_size=0.3, random_state=42)"
   ]
  },
  {
   "cell_type": "markdown",
   "id": "b9ff66dd",
   "metadata": {},
   "source": [
    "### RF"
   ]
  },
  {
   "cell_type": "code",
   "execution_count": 21,
   "id": "62422bd8",
   "metadata": {
    "ExecuteTime": {
     "end_time": "2023-04-14T18:39:37.714536Z",
     "start_time": "2023-04-14T18:39:34.343935Z"
    }
   },
   "outputs": [
    {
     "name": "stdout",
     "output_type": "stream",
     "text": [
      "Accuracy: 0.9991419991419992\n"
     ]
    }
   ],
   "source": [
    "rf = RandomForestClassifier(n_estimators=100, max_depth=7, random_state=42)\n",
    "\n",
    "rf.fit(X_train_b, y_train_b)\n",
    "\n",
    "y_pred = rf.predict(X_test_b)\n",
    "\n",
    "print(\"Accuracy:\", accuracy_score(y_test_b, y_pred))\n"
   ]
  },
  {
   "cell_type": "code",
   "execution_count": 22,
   "id": "713db22b",
   "metadata": {
    "ExecuteTime": {
     "end_time": "2023-04-14T18:39:37.720448Z",
     "start_time": "2023-04-14T18:39:37.717150Z"
    }
   },
   "outputs": [],
   "source": [
    "# Accuracy: 0.9991419991419992\n",
    "# Precision: 0.999259807549963\n",
    "# Recall: 0.9989816700610998\n",
    "# F1 score: 0.999119945633707"
   ]
  },
  {
   "cell_type": "code",
   "execution_count": 23,
   "id": "b8a66d2a",
   "metadata": {
    "ExecuteTime": {
     "end_time": "2023-04-14T18:39:37.729312Z",
     "start_time": "2023-04-14T18:39:37.723969Z"
    }
   },
   "outputs": [],
   "source": [
    "# folds = KFold(n_splits = 5, shuffle = True, random_state = 10)\n",
    "# rf = RandomForestClassifier(random_state=0)\n",
    "\n",
    "# # parameters = {'max_depth':[7, 14, 25, 46, 60],\n",
    "# #               'n_estimators':[200, 400, 600, 800, 1200],\n",
    "# #               'max_features':[100, 200, 400, 600]}\n",
    "\n",
    "# parameters = {'max_depth':[7, 14, 25, 50],\n",
    "#               'n_estimators':[200, 400, 600],\n",
    "#               'max_features':[100, 300, 600]}\n",
    "\n",
    "# rf_cv = GridSearchCV(rf, parameters, scoring='accuracy', cv = folds, n_jobs = -1)\n",
    "# rf_cv.fit(X_train_b,y_train_b)\n",
    "# accuracy = rf_cv.score(X_test_b, y_test_b)\n",
    "# accuracy"
   ]
  },
  {
   "cell_type": "code",
   "execution_count": 24,
   "id": "25dc78a0",
   "metadata": {
    "ExecuteTime": {
     "end_time": "2023-04-14T18:39:37.771205Z",
     "start_time": "2023-04-14T18:39:37.762520Z"
    }
   },
   "outputs": [],
   "source": [
    "# rf_cv.best_params_"
   ]
  },
  {
   "cell_type": "code",
   "execution_count": 25,
   "id": "e0d102a0",
   "metadata": {
    "ExecuteTime": {
     "end_time": "2023-04-14T18:39:41.216580Z",
     "start_time": "2023-04-14T18:39:37.775127Z"
    }
   },
   "outputs": [],
   "source": [
    "rf = RandomForestClassifier(n_estimators=100, max_depth=10, random_state=42)\n",
    "\n",
    "rf.fit(X_train_b, y_train_b)\n",
    "\n",
    "y_pred_b1 = rf.predict(test_df)"
   ]
  },
  {
   "cell_type": "markdown",
   "id": "dc09912b",
   "metadata": {},
   "source": [
    "### Logistic Regression"
   ]
  },
  {
   "cell_type": "code",
   "execution_count": 26,
   "id": "acfb01c3",
   "metadata": {
    "ExecuteTime": {
     "end_time": "2023-04-14T18:39:41.626473Z",
     "start_time": "2023-04-14T18:39:41.245367Z"
    }
   },
   "outputs": [
    {
     "name": "stdout",
     "output_type": "stream",
     "text": [
      "Accuracy: 1.0\n"
     ]
    },
    {
     "name": "stderr",
     "output_type": "stream",
     "text": [
      "/Users/melissawang/opt/anaconda3/lib/python3.8/site-packages/sklearn/linear_model/_logistic.py:458: ConvergenceWarning: lbfgs failed to converge (status=1):\n",
      "STOP: TOTAL NO. of ITERATIONS REACHED LIMIT.\n",
      "\n",
      "Increase the number of iterations (max_iter) or scale the data as shown in:\n",
      "    https://scikit-learn.org/stable/modules/preprocessing.html\n",
      "Please also refer to the documentation for alternative solver options:\n",
      "    https://scikit-learn.org/stable/modules/linear_model.html#logistic-regression\n",
      "  n_iter_i = _check_optimize_result(\n"
     ]
    }
   ],
   "source": [
    "log_model = LogisticRegression()\n",
    "log_model.fit(X_train_b, y_train_b)\n",
    "# predict on test data\n",
    "log_pred = log_model.predict(X_test_b)\n",
    "\n",
    "# evaluate accuracy\n",
    "log_accuracy = accuracy_score(y_test_b, log_pred)\n",
    "print(\"Accuracy:\", log_accuracy)"
   ]
  },
  {
   "cell_type": "code",
   "execution_count": 27,
   "id": "bf85ef37",
   "metadata": {
    "ExecuteTime": {
     "end_time": "2023-04-14T18:39:41.891014Z",
     "start_time": "2023-04-14T18:39:41.634839Z"
    }
   },
   "outputs": [
    {
     "name": "stderr",
     "output_type": "stream",
     "text": [
      "/Users/melissawang/opt/anaconda3/lib/python3.8/site-packages/sklearn/linear_model/_logistic.py:458: ConvergenceWarning: lbfgs failed to converge (status=1):\n",
      "STOP: TOTAL NO. of ITERATIONS REACHED LIMIT.\n",
      "\n",
      "Increase the number of iterations (max_iter) or scale the data as shown in:\n",
      "    https://scikit-learn.org/stable/modules/preprocessing.html\n",
      "Please also refer to the documentation for alternative solver options:\n",
      "    https://scikit-learn.org/stable/modules/linear_model.html#logistic-regression\n",
      "  n_iter_i = _check_optimize_result(\n"
     ]
    }
   ],
   "source": [
    "log_model = LogisticRegression()\n",
    "log_model.fit(X_train_b, y_train_b)\n",
    "# predict on test data\n",
    "y_pred_b2 = log_model.predict(test_df)"
   ]
  },
  {
   "cell_type": "code",
   "execution_count": 28,
   "id": "78eb321d",
   "metadata": {
    "ExecuteTime": {
     "end_time": "2023-04-14T18:39:41.899234Z",
     "start_time": "2023-04-14T18:39:41.893083Z"
    }
   },
   "outputs": [
    {
     "data": {
      "text/plain": [
       "2331"
      ]
     },
     "execution_count": 28,
     "metadata": {},
     "output_type": "execute_result"
    }
   ],
   "source": [
    "len(log_pred)"
   ]
  },
  {
   "cell_type": "code",
   "execution_count": null,
   "id": "dc68bf56",
   "metadata": {},
   "outputs": [],
   "source": []
  },
  {
   "cell_type": "markdown",
   "id": "8a99650b",
   "metadata": {},
   "source": [
    "### SVM"
   ]
  },
  {
   "cell_type": "code",
   "execution_count": 29,
   "id": "819c3afb",
   "metadata": {
    "ExecuteTime": {
     "end_time": "2023-04-14T18:39:41.905341Z",
     "start_time": "2023-04-14T18:39:41.902319Z"
    }
   },
   "outputs": [],
   "source": [
    "from sklearn.svm import SVC"
   ]
  },
  {
   "cell_type": "code",
   "execution_count": 30,
   "id": "aa7bfb0f",
   "metadata": {
    "ExecuteTime": {
     "end_time": "2023-04-14T18:39:42.154380Z",
     "start_time": "2023-04-14T18:39:41.917744Z"
    }
   },
   "outputs": [],
   "source": [
    "svm = SVC(kernel='linear', random_state=42)\n",
    "svm.fit(X_train_b, y_train_b)\n",
    "svm_pred = svm.predict(X_test_b)"
   ]
  },
  {
   "cell_type": "code",
   "execution_count": 31,
   "id": "f26defaf",
   "metadata": {
    "ExecuteTime": {
     "end_time": "2023-04-14T18:39:42.162590Z",
     "start_time": "2023-04-14T18:39:42.156866Z"
    }
   },
   "outputs": [
    {
     "name": "stdout",
     "output_type": "stream",
     "text": [
      "Accuracy: 1.0\n"
     ]
    }
   ],
   "source": [
    "svm_accuracy = accuracy_score(y_test_b, svm_pred)\n",
    "print(\"Accuracy:\", svm_accuracy)"
   ]
  },
  {
   "cell_type": "code",
   "execution_count": 32,
   "id": "e586ba15",
   "metadata": {
    "ExecuteTime": {
     "end_time": "2023-04-14T18:39:42.401760Z",
     "start_time": "2023-04-14T18:39:42.165854Z"
    }
   },
   "outputs": [],
   "source": [
    "# train on whole dataset\n",
    "svm = SVC(kernel='linear', random_state=42)\n",
    "svm.fit(X_train_b, y_train_b)\n",
    "\n",
    "y_pred_b3 = svm.predict(test_df)"
   ]
  },
  {
   "cell_type": "code",
   "execution_count": 33,
   "id": "946b54d5",
   "metadata": {
    "ExecuteTime": {
     "end_time": "2023-04-14T18:39:42.408166Z",
     "start_time": "2023-04-14T18:39:42.404359Z"
    }
   },
   "outputs": [],
   "source": [
    "# data = {'outcome': svm_pred}\n",
    "# df = pd.DataFrame(data)\n",
    "\n",
    "# # specify the file path to save the text file\n",
    "# file_path = 'binary_h0606w.txt'\n",
    "\n",
    "# # extract the column and save it to a text file\n",
    "# df['outcome'].to_csv(file_path, index=False, header=False)"
   ]
  },
  {
   "cell_type": "markdown",
   "id": "9dd33f9e",
   "metadata": {},
   "source": [
    "### Lasso"
   ]
  },
  {
   "cell_type": "code",
   "execution_count": 36,
   "id": "67d43b74",
   "metadata": {
    "ExecuteTime": {
     "end_time": "2023-04-14T18:40:20.367146Z",
     "start_time": "2023-04-14T18:40:19.036893Z"
    }
   },
   "outputs": [
    {
     "name": "stdout",
     "output_type": "stream",
     "text": [
      "Cross-validation scores: [1.         1.         1.         0.99908004 1.        ]\n",
      "Mean cross-validation score: 0.9998160073597055\n"
     ]
    }
   ],
   "source": [
    "lasso = LogisticRegression(penalty='l1', solver='liblinear', max_iter=3000)\n",
    "\n",
    "# Perform 5-fold cross-validation\n",
    "scores = cross_val_score(lasso, X_train_b, y_train_b, cv=5)\n",
    "\n",
    "# Print the cross-validation scores\n",
    "print('Cross-validation scores:', scores)\n",
    "print('Mean cross-validation score:', scores.mean())"
   ]
  },
  {
   "cell_type": "code",
   "execution_count": 217,
   "id": "22ee8009",
   "metadata": {
    "ExecuteTime": {
     "end_time": "2023-04-14T21:40:08.343856Z",
     "start_time": "2023-04-14T21:40:08.022003Z"
    }
   },
   "outputs": [],
   "source": [
    "lasso = LogisticRegression(penalty='l1', solver='liblinear', max_iter=3000)\n",
    "lasso.fit(X_train_b, y_train_b)\n",
    "# predict on test data\n",
    "lasso_pred_b = lasso.predict(test_df)"
   ]
  },
  {
   "cell_type": "markdown",
   "id": "a2686ff3",
   "metadata": {},
   "source": [
    "### XGboost"
   ]
  },
  {
   "cell_type": "code",
   "execution_count": 215,
   "id": "3a303425",
   "metadata": {
    "ExecuteTime": {
     "end_time": "2023-04-14T21:38:12.219272Z",
     "start_time": "2023-04-14T21:38:07.254735Z"
    }
   },
   "outputs": [
    {
     "name": "stdout",
     "output_type": "stream",
     "text": [
      "Accuracy: 0.9978549978549979\n"
     ]
    }
   ],
   "source": [
    "xgboost = xgb.XGBClassifier()\n",
    "xgboost.fit(X_train_b, y_train_b)\n",
    "\n",
    "y_pred = xgboost.predict(X_test_b)\n",
    "\n",
    "# Calculate the accuracy score of the model\n",
    "accuracy = accuracy_score(y_test_b, y_pred)\n",
    "print(\"Accuracy:\", accuracy)"
   ]
  },
  {
   "cell_type": "code",
   "execution_count": 216,
   "id": "b3b107d3",
   "metadata": {
    "ExecuteTime": {
     "end_time": "2023-04-14T21:38:46.220373Z",
     "start_time": "2023-04-14T21:38:41.247350Z"
    }
   },
   "outputs": [],
   "source": [
    "xgboost = xgb.XGBClassifier()\n",
    "xgboost.fit(X_train_b, y_train_b)\n",
    "xgb_pred_b = xgboost.predict(test_df)"
   ]
  },
  {
   "cell_type": "code",
   "execution_count": null,
   "id": "0c26bc8c",
   "metadata": {},
   "outputs": [],
   "source": []
  },
  {
   "cell_type": "markdown",
   "id": "ffbc82a8",
   "metadata": {},
   "source": [
    "### Ensemble all together"
   ]
  },
  {
   "cell_type": "code",
   "execution_count": 218,
   "id": "075057eb",
   "metadata": {
    "ExecuteTime": {
     "end_time": "2023-04-14T21:40:31.785837Z",
     "start_time": "2023-04-14T21:40:31.312009Z"
    }
   },
   "outputs": [],
   "source": [
    "# create DataFrame with one column for each model's predictions\n",
    "ensemble_b = pd.DataFrame({'RF': y_pred_b1, 'logistic':y_pred_b2 , 'SVM':y_pred_b3, 'xgboost':xgb_pred_b, 'lasso': lasso_pred_b})\n",
    "\n",
    "# compute majority vote for each row (i.e., sample)\n",
    "ensemble_b['majority_vote'] = ensemble_b.mode(axis=1)[0]"
   ]
  },
  {
   "cell_type": "code",
   "execution_count": 219,
   "id": "ee53d91e",
   "metadata": {
    "ExecuteTime": {
     "end_time": "2023-04-14T21:40:36.595791Z",
     "start_time": "2023-04-14T21:40:36.584026Z"
    }
   },
   "outputs": [
    {
     "data": {
      "text/html": [
       "<div>\n",
       "<style scoped>\n",
       "    .dataframe tbody tr th:only-of-type {\n",
       "        vertical-align: middle;\n",
       "    }\n",
       "\n",
       "    .dataframe tbody tr th {\n",
       "        vertical-align: top;\n",
       "    }\n",
       "\n",
       "    .dataframe thead th {\n",
       "        text-align: right;\n",
       "    }\n",
       "</style>\n",
       "<table border=\"1\" class=\"dataframe\">\n",
       "  <thead>\n",
       "    <tr style=\"text-align: right;\">\n",
       "      <th></th>\n",
       "      <th>RF</th>\n",
       "      <th>logistic</th>\n",
       "      <th>SVM</th>\n",
       "      <th>xgboost</th>\n",
       "      <th>lasso</th>\n",
       "      <th>majority_vote</th>\n",
       "    </tr>\n",
       "  </thead>\n",
       "  <tbody>\n",
       "    <tr>\n",
       "      <th>0</th>\n",
       "      <td>0</td>\n",
       "      <td>0</td>\n",
       "      <td>0</td>\n",
       "      <td>0</td>\n",
       "      <td>0</td>\n",
       "      <td>0</td>\n",
       "    </tr>\n",
       "    <tr>\n",
       "      <th>1</th>\n",
       "      <td>0</td>\n",
       "      <td>0</td>\n",
       "      <td>0</td>\n",
       "      <td>0</td>\n",
       "      <td>0</td>\n",
       "      <td>0</td>\n",
       "    </tr>\n",
       "    <tr>\n",
       "      <th>2</th>\n",
       "      <td>0</td>\n",
       "      <td>0</td>\n",
       "      <td>0</td>\n",
       "      <td>0</td>\n",
       "      <td>0</td>\n",
       "      <td>0</td>\n",
       "    </tr>\n",
       "    <tr>\n",
       "      <th>3</th>\n",
       "      <td>0</td>\n",
       "      <td>0</td>\n",
       "      <td>0</td>\n",
       "      <td>0</td>\n",
       "      <td>0</td>\n",
       "      <td>0</td>\n",
       "    </tr>\n",
       "    <tr>\n",
       "      <th>4</th>\n",
       "      <td>0</td>\n",
       "      <td>0</td>\n",
       "      <td>0</td>\n",
       "      <td>0</td>\n",
       "      <td>0</td>\n",
       "      <td>0</td>\n",
       "    </tr>\n",
       "    <tr>\n",
       "      <th>...</th>\n",
       "      <td>...</td>\n",
       "      <td>...</td>\n",
       "      <td>...</td>\n",
       "      <td>...</td>\n",
       "      <td>...</td>\n",
       "      <td>...</td>\n",
       "    </tr>\n",
       "    <tr>\n",
       "      <th>3157</th>\n",
       "      <td>1</td>\n",
       "      <td>1</td>\n",
       "      <td>1</td>\n",
       "      <td>1</td>\n",
       "      <td>1</td>\n",
       "      <td>1</td>\n",
       "    </tr>\n",
       "    <tr>\n",
       "      <th>3158</th>\n",
       "      <td>1</td>\n",
       "      <td>1</td>\n",
       "      <td>1</td>\n",
       "      <td>1</td>\n",
       "      <td>1</td>\n",
       "      <td>1</td>\n",
       "    </tr>\n",
       "    <tr>\n",
       "      <th>3159</th>\n",
       "      <td>1</td>\n",
       "      <td>1</td>\n",
       "      <td>1</td>\n",
       "      <td>1</td>\n",
       "      <td>1</td>\n",
       "      <td>1</td>\n",
       "    </tr>\n",
       "    <tr>\n",
       "      <th>3160</th>\n",
       "      <td>1</td>\n",
       "      <td>1</td>\n",
       "      <td>1</td>\n",
       "      <td>1</td>\n",
       "      <td>1</td>\n",
       "      <td>1</td>\n",
       "    </tr>\n",
       "    <tr>\n",
       "      <th>3161</th>\n",
       "      <td>1</td>\n",
       "      <td>1</td>\n",
       "      <td>1</td>\n",
       "      <td>1</td>\n",
       "      <td>1</td>\n",
       "      <td>1</td>\n",
       "    </tr>\n",
       "  </tbody>\n",
       "</table>\n",
       "<p>3162 rows × 6 columns</p>\n",
       "</div>"
      ],
      "text/plain": [
       "      RF  logistic  SVM  xgboost  lasso  majority_vote\n",
       "0      0         0    0        0      0              0\n",
       "1      0         0    0        0      0              0\n",
       "2      0         0    0        0      0              0\n",
       "3      0         0    0        0      0              0\n",
       "4      0         0    0        0      0              0\n",
       "...   ..       ...  ...      ...    ...            ...\n",
       "3157   1         1    1        1      1              1\n",
       "3158   1         1    1        1      1              1\n",
       "3159   1         1    1        1      1              1\n",
       "3160   1         1    1        1      1              1\n",
       "3161   1         1    1        1      1              1\n",
       "\n",
       "[3162 rows x 6 columns]"
      ]
     },
     "execution_count": 219,
     "metadata": {},
     "output_type": "execute_result"
    }
   ],
   "source": [
    "ensemble_b"
   ]
  },
  {
   "cell_type": "code",
   "execution_count": 220,
   "id": "7a895b4d",
   "metadata": {
    "ExecuteTime": {
     "end_time": "2023-04-14T21:40:41.680836Z",
     "start_time": "2023-04-14T21:40:41.671849Z"
    }
   },
   "outputs": [
    {
     "data": {
      "text/html": [
       "<div>\n",
       "<style scoped>\n",
       "    .dataframe tbody tr th:only-of-type {\n",
       "        vertical-align: middle;\n",
       "    }\n",
       "\n",
       "    .dataframe tbody tr th {\n",
       "        vertical-align: top;\n",
       "    }\n",
       "\n",
       "    .dataframe thead th {\n",
       "        text-align: right;\n",
       "    }\n",
       "</style>\n",
       "<table border=\"1\" class=\"dataframe\">\n",
       "  <thead>\n",
       "    <tr style=\"text-align: right;\">\n",
       "      <th></th>\n",
       "      <th>RF</th>\n",
       "      <th>logistic</th>\n",
       "      <th>SVM</th>\n",
       "      <th>xgboost</th>\n",
       "      <th>lasso</th>\n",
       "      <th>majority_vote</th>\n",
       "    </tr>\n",
       "  </thead>\n",
       "  <tbody>\n",
       "    <tr>\n",
       "      <th>368</th>\n",
       "      <td>1</td>\n",
       "      <td>0</td>\n",
       "      <td>0</td>\n",
       "      <td>0</td>\n",
       "      <td>1</td>\n",
       "      <td>0</td>\n",
       "    </tr>\n",
       "    <tr>\n",
       "      <th>543</th>\n",
       "      <td>1</td>\n",
       "      <td>0</td>\n",
       "      <td>0</td>\n",
       "      <td>0</td>\n",
       "      <td>0</td>\n",
       "      <td>0</td>\n",
       "    </tr>\n",
       "    <tr>\n",
       "      <th>544</th>\n",
       "      <td>1</td>\n",
       "      <td>0</td>\n",
       "      <td>0</td>\n",
       "      <td>0</td>\n",
       "      <td>0</td>\n",
       "      <td>0</td>\n",
       "    </tr>\n",
       "    <tr>\n",
       "      <th>773</th>\n",
       "      <td>1</td>\n",
       "      <td>0</td>\n",
       "      <td>0</td>\n",
       "      <td>1</td>\n",
       "      <td>1</td>\n",
       "      <td>1</td>\n",
       "    </tr>\n",
       "    <tr>\n",
       "      <th>776</th>\n",
       "      <td>1</td>\n",
       "      <td>0</td>\n",
       "      <td>0</td>\n",
       "      <td>1</td>\n",
       "      <td>1</td>\n",
       "      <td>1</td>\n",
       "    </tr>\n",
       "    <tr>\n",
       "      <th>1469</th>\n",
       "      <td>0</td>\n",
       "      <td>1</td>\n",
       "      <td>1</td>\n",
       "      <td>0</td>\n",
       "      <td>1</td>\n",
       "      <td>1</td>\n",
       "    </tr>\n",
       "  </tbody>\n",
       "</table>\n",
       "</div>"
      ],
      "text/plain": [
       "      RF  logistic  SVM  xgboost  lasso  majority_vote\n",
       "368    1         0    0        0      1              0\n",
       "543    1         0    0        0      0              0\n",
       "544    1         0    0        0      0              0\n",
       "773    1         0    0        1      1              1\n",
       "776    1         0    0        1      1              1\n",
       "1469   0         1    1        0      1              1"
      ]
     },
     "execution_count": 220,
     "metadata": {},
     "output_type": "execute_result"
    }
   ],
   "source": [
    "# find rows where at least one entry is not the same across three columns\n",
    "mask = (ensemble_b['RF'] != ensemble_b['logistic']) | (ensemble_b['RF'] != ensemble_b['SVM']) | (ensemble_b['logistic'] != ensemble_b['SVM'])\n",
    "result = ensemble_b[mask]\n",
    "\n",
    "result"
   ]
  },
  {
   "cell_type": "code",
   "execution_count": 221,
   "id": "32010f13",
   "metadata": {
    "ExecuteTime": {
     "end_time": "2023-04-14T21:41:27.138967Z",
     "start_time": "2023-04-14T21:41:27.124405Z"
    }
   },
   "outputs": [],
   "source": [
    "last_pred = pd.read_csv('binary_h0606w_2.txt', header=None)\n",
    "ensemble_b['last_pred'] = last_pred[0]"
   ]
  },
  {
   "cell_type": "code",
   "execution_count": 222,
   "id": "0950c53c",
   "metadata": {
    "ExecuteTime": {
     "end_time": "2023-04-14T21:41:32.031654Z",
     "start_time": "2023-04-14T21:41:32.018312Z"
    }
   },
   "outputs": [
    {
     "data": {
      "text/html": [
       "<div>\n",
       "<style scoped>\n",
       "    .dataframe tbody tr th:only-of-type {\n",
       "        vertical-align: middle;\n",
       "    }\n",
       "\n",
       "    .dataframe tbody tr th {\n",
       "        vertical-align: top;\n",
       "    }\n",
       "\n",
       "    .dataframe thead th {\n",
       "        text-align: right;\n",
       "    }\n",
       "</style>\n",
       "<table border=\"1\" class=\"dataframe\">\n",
       "  <thead>\n",
       "    <tr style=\"text-align: right;\">\n",
       "      <th></th>\n",
       "      <th>RF</th>\n",
       "      <th>logistic</th>\n",
       "      <th>SVM</th>\n",
       "      <th>xgboost</th>\n",
       "      <th>lasso</th>\n",
       "      <th>majority_vote</th>\n",
       "      <th>last_pred</th>\n",
       "    </tr>\n",
       "  </thead>\n",
       "  <tbody>\n",
       "    <tr>\n",
       "      <th>773</th>\n",
       "      <td>1</td>\n",
       "      <td>0</td>\n",
       "      <td>0</td>\n",
       "      <td>1</td>\n",
       "      <td>1</td>\n",
       "      <td>1</td>\n",
       "      <td>0</td>\n",
       "    </tr>\n",
       "    <tr>\n",
       "      <th>776</th>\n",
       "      <td>1</td>\n",
       "      <td>0</td>\n",
       "      <td>0</td>\n",
       "      <td>1</td>\n",
       "      <td>1</td>\n",
       "      <td>1</td>\n",
       "      <td>0</td>\n",
       "    </tr>\n",
       "  </tbody>\n",
       "</table>\n",
       "</div>"
      ],
      "text/plain": [
       "     RF  logistic  SVM  xgboost  lasso  majority_vote  last_pred\n",
       "773   1         0    0        1      1              1          0\n",
       "776   1         0    0        1      1              1          0"
      ]
     },
     "execution_count": 222,
     "metadata": {},
     "output_type": "execute_result"
    }
   ],
   "source": [
    "mask = (ensemble_b['majority_vote'] != ensemble_b['last_pred'])\n",
    "ensemble_b[mask]"
   ]
  },
  {
   "cell_type": "code",
   "execution_count": 223,
   "id": "fe6e865a",
   "metadata": {
    "ExecuteTime": {
     "end_time": "2023-04-14T21:41:55.881806Z",
     "start_time": "2023-04-14T21:41:55.871596Z"
    }
   },
   "outputs": [],
   "source": [
    "file_path = 'binary_h0606w.txt'\n",
    "\n",
    "# extract the column and save it to a text file\n",
    "ensemble_b['majority_vote'].to_csv(file_path, index=False, header=False)"
   ]
  },
  {
   "cell_type": "markdown",
   "id": "86b5c10a",
   "metadata": {},
   "source": [
    "## Multi-class Task"
   ]
  },
  {
   "cell_type": "code",
   "execution_count": 43,
   "id": "60a0eb57",
   "metadata": {
    "ExecuteTime": {
     "end_time": "2023-04-14T18:40:21.137250Z",
     "start_time": "2023-04-14T18:40:21.038196Z"
    }
   },
   "outputs": [],
   "source": [
    "X_m = multiclass_df.drop('activity', axis=1)\n",
    "y_m = multiclass_df['activity']\n",
    "X_train_m, X_test_m, y_train_m, y_test_m = train_test_split(X_m, y_m, test_size=0.3, random_state=42)"
   ]
  },
  {
   "cell_type": "code",
   "execution_count": null,
   "id": "7abb2283",
   "metadata": {},
   "outputs": [],
   "source": []
  },
  {
   "cell_type": "markdown",
   "id": "634accf3",
   "metadata": {
    "ExecuteTime": {
     "end_time": "2023-04-07T18:31:51.625698Z",
     "start_time": "2023-04-07T18:31:51.622659Z"
    }
   },
   "source": [
    "### Logistic Regression"
   ]
  },
  {
   "cell_type": "code",
   "execution_count": 114,
   "id": "6ac8bd55",
   "metadata": {
    "ExecuteTime": {
     "end_time": "2023-04-14T20:40:51.966645Z",
     "start_time": "2023-04-14T20:40:50.948538Z"
    }
   },
   "outputs": [
    {
     "name": "stdout",
     "output_type": "stream",
     "text": [
      "Accuracy: 0.9802659802659802\n"
     ]
    },
    {
     "name": "stderr",
     "output_type": "stream",
     "text": [
      "/Users/melissawang/opt/anaconda3/lib/python3.8/site-packages/sklearn/linear_model/_logistic.py:458: ConvergenceWarning: lbfgs failed to converge (status=1):\n",
      "STOP: TOTAL NO. of ITERATIONS REACHED LIMIT.\n",
      "\n",
      "Increase the number of iterations (max_iter) or scale the data as shown in:\n",
      "    https://scikit-learn.org/stable/modules/preprocessing.html\n",
      "Please also refer to the documentation for alternative solver options:\n",
      "    https://scikit-learn.org/stable/modules/linear_model.html#logistic-regression\n",
      "  n_iter_i = _check_optimize_result(\n"
     ]
    }
   ],
   "source": [
    "log_model = LogisticRegression()\n",
    "log_model.fit(X_train_m, y_train_m)\n",
    "# predict on test data\n",
    "log_pred_test = log_model.predict(X_test_m)\n",
    "\n",
    "# evaluate accuracy\n",
    "log_accuracy = accuracy_score(y_test_m, log_pred_test)\n",
    "print(\"Accuracy:\", log_accuracy)"
   ]
  },
  {
   "cell_type": "code",
   "execution_count": 46,
   "id": "77561069",
   "metadata": {
    "ExecuteTime": {
     "end_time": "2023-04-14T18:40:30.353544Z",
     "start_time": "2023-04-14T18:40:29.068433Z"
    }
   },
   "outputs": [
    {
     "name": "stderr",
     "output_type": "stream",
     "text": [
      "/Users/melissawang/opt/anaconda3/lib/python3.8/site-packages/sklearn/linear_model/_logistic.py:458: ConvergenceWarning: lbfgs failed to converge (status=1):\n",
      "STOP: TOTAL NO. of ITERATIONS REACHED LIMIT.\n",
      "\n",
      "Increase the number of iterations (max_iter) or scale the data as shown in:\n",
      "    https://scikit-learn.org/stable/modules/preprocessing.html\n",
      "Please also refer to the documentation for alternative solver options:\n",
      "    https://scikit-learn.org/stable/modules/linear_model.html#logistic-regression\n",
      "  n_iter_i = _check_optimize_result(\n"
     ]
    }
   ],
   "source": [
    "log_model = LogisticRegression()\n",
    "log_model.fit(X_m, y_m)\n",
    "# predict on test data\n",
    "log_pred_m = log_model.predict(test_df)"
   ]
  },
  {
   "cell_type": "code",
   "execution_count": 47,
   "id": "71311f91",
   "metadata": {
    "ExecuteTime": {
     "end_time": "2023-04-14T18:40:30.366845Z",
     "start_time": "2023-04-14T18:40:30.358280Z"
    }
   },
   "outputs": [
    {
     "data": {
      "text/plain": [
       "3162"
      ]
     },
     "execution_count": 47,
     "metadata": {},
     "output_type": "execute_result"
    }
   ],
   "source": [
    "len(log_pred_m)"
   ]
  },
  {
   "cell_type": "code",
   "execution_count": 48,
   "id": "e0b5605f",
   "metadata": {
    "ExecuteTime": {
     "end_time": "2023-04-14T18:40:31.312936Z",
     "start_time": "2023-04-14T18:40:30.395102Z"
    }
   },
   "outputs": [
    {
     "name": "stderr",
     "output_type": "stream",
     "text": [
      "/Users/melissawang/opt/anaconda3/lib/python3.8/site-packages/sklearn/linear_model/_logistic.py:458: ConvergenceWarning: lbfgs failed to converge (status=1):\n",
      "STOP: TOTAL NO. of ITERATIONS REACHED LIMIT.\n",
      "\n",
      "Increase the number of iterations (max_iter) or scale the data as shown in:\n",
      "    https://scikit-learn.org/stable/modules/preprocessing.html\n",
      "Please also refer to the documentation for alternative solver options:\n",
      "    https://scikit-learn.org/stable/modules/linear_model.html#logistic-regression\n",
      "  n_iter_i = _check_optimize_result(\n"
     ]
    }
   ],
   "source": [
    "log_model = LogisticRegression()\n",
    "log_model.fit(X_train_m, y_train_m)\n",
    "# predict on test data\n",
    "y_pred_m1 = log_model.predict(test_df)"
   ]
  },
  {
   "cell_type": "code",
   "execution_count": null,
   "id": "55b27e23",
   "metadata": {},
   "outputs": [],
   "source": []
  },
  {
   "cell_type": "markdown",
   "id": "e3d41e16",
   "metadata": {},
   "source": [
    "### Ridge"
   ]
  },
  {
   "cell_type": "code",
   "execution_count": 50,
   "id": "638fad0f",
   "metadata": {
    "ExecuteTime": {
     "end_time": "2023-04-14T18:41:48.358450Z",
     "start_time": "2023-04-14T18:41:30.014998Z"
    }
   },
   "outputs": [
    {
     "name": "stdout",
     "output_type": "stream",
     "text": [
      "Cross-validation scores: [0.98621324 0.97608096 0.97884085 0.98528059 0.98160074]\n",
      "Mean cross-validation score: 0.9816032726338004\n"
     ]
    }
   ],
   "source": [
    "from sklearn.model_selection import cross_val_score\n",
    "ridge = LogisticRegression(penalty='l2', solver='liblinear', max_iter=3000)\n",
    "\n",
    "# Perform 5-fold cross-validation\n",
    "scores = cross_val_score(ridge, X_train_m, y_train_m, cv=5)\n",
    "\n",
    "# Print the cross-validation scores\n",
    "print('Cross-validation scores:', scores)\n",
    "print('Mean cross-validation score:', scores.mean())"
   ]
  },
  {
   "cell_type": "code",
   "execution_count": 115,
   "id": "3e235161",
   "metadata": {
    "ExecuteTime": {
     "end_time": "2023-04-14T20:42:07.259003Z",
     "start_time": "2023-04-14T20:42:02.116736Z"
    }
   },
   "outputs": [
    {
     "name": "stdout",
     "output_type": "stream",
     "text": [
      "Accuracy: 0.9824109824109825\n"
     ]
    }
   ],
   "source": [
    "log2_model = LogisticRegression(penalty='l2', solver='liblinear', max_iter=3000)\n",
    "log2_model.fit(X_train_m, y_train_m)\n",
    "# predict on test data\n",
    "log2_pred_test = log2_model.predict(X_test_m)\n",
    "\n",
    "# evaluate accuracy\n",
    "log_accuracy = accuracy_score(y_test_m, log2_pred_test)\n",
    "print(\"Accuracy:\", log_accuracy)"
   ]
  },
  {
   "cell_type": "code",
   "execution_count": 206,
   "id": "12ceb6e2",
   "metadata": {
    "ExecuteTime": {
     "end_time": "2023-04-14T21:27:44.065024Z",
     "start_time": "2023-04-14T21:27:38.806162Z"
    }
   },
   "outputs": [],
   "source": [
    "log2_model = LogisticRegression(penalty='l2', solver='liblinear', max_iter=3000)\n",
    "log2_model.fit(X_train_m, y_train_m)\n",
    "# predict on test data\n",
    "log2_pred_m = log2_model.predict(test_df)"
   ]
  },
  {
   "cell_type": "markdown",
   "id": "ad33504d",
   "metadata": {},
   "source": [
    "### Lasso"
   ]
  },
  {
   "cell_type": "code",
   "execution_count": 51,
   "id": "2c88cfce",
   "metadata": {
    "ExecuteTime": {
     "end_time": "2023-04-14T18:42:01.170888Z",
     "start_time": "2023-04-14T18:41:48.361426Z"
    }
   },
   "outputs": [
    {
     "name": "stdout",
     "output_type": "stream",
     "text": [
      "Cross-validation scores: [0.98253676 0.97332107 0.97792088 0.98620055 0.97608096]\n",
      "Mean cross-validation score: 0.9792120447535041\n"
     ]
    }
   ],
   "source": [
    "lasso = LogisticRegression(penalty='l1', solver='liblinear', max_iter=3000)\n",
    "\n",
    "# Perform 5-fold cross-validation\n",
    "scores = cross_val_score(lasso, X_train_m, y_train_m, cv=5)\n",
    "\n",
    "# Print the cross-validation scores\n",
    "print('Cross-validation scores:', scores)\n",
    "print('Mean cross-validation score:', scores.mean())"
   ]
  },
  {
   "cell_type": "code",
   "execution_count": 117,
   "id": "190c827b",
   "metadata": {
    "ExecuteTime": {
     "end_time": "2023-04-14T20:42:50.693600Z",
     "start_time": "2023-04-14T20:42:47.014435Z"
    }
   },
   "outputs": [
    {
     "name": "stdout",
     "output_type": "stream",
     "text": [
      "Accuracy: 0.9836979836979837\n"
     ]
    }
   ],
   "source": [
    "log3_model = LogisticRegression(penalty='l1', solver='liblinear', max_iter=3000)\n",
    "log3_model.fit(X_train_m, y_train_m)\n",
    "# predict on test data\n",
    "lasso_pred_test = log3_model.predict(X_test_m)\n",
    "\n",
    "# evaluate accuracy\n",
    "log_accuracy = accuracy_score(y_test_m, lasso_pred_test)\n",
    "print(\"Accuracy:\", log_accuracy)"
   ]
  },
  {
   "cell_type": "code",
   "execution_count": 225,
   "id": "8d7608bf",
   "metadata": {
    "ExecuteTime": {
     "end_time": "2023-04-15T03:05:57.593241Z",
     "start_time": "2023-04-15T03:05:53.627858Z"
    }
   },
   "outputs": [],
   "source": [
    "log3_model = LogisticRegression(penalty='l1', solver='liblinear', max_iter=3000)\n",
    "log3_model.fit(X_train_m, y_train_m)\n",
    "# predict on test data\n",
    "lasso_pred_m = log3_model.predict(test_df)"
   ]
  },
  {
   "cell_type": "markdown",
   "id": "6a0fc940",
   "metadata": {},
   "source": [
    "### SVM"
   ]
  },
  {
   "cell_type": "code",
   "execution_count": 52,
   "id": "7523b66e",
   "metadata": {
    "ExecuteTime": {
     "end_time": "2023-04-14T18:42:05.898933Z",
     "start_time": "2023-04-14T18:42:01.173828Z"
    }
   },
   "outputs": [],
   "source": [
    "# train on whole dataset\n",
    "svm = SVC(C=10, gamma=0.01, kernel='rbf', random_state=42)\n",
    "svm.fit(X_m, y_m)\n",
    "\n",
    "svm_pred = svm.predict(test_df)"
   ]
  },
  {
   "cell_type": "code",
   "execution_count": 53,
   "id": "7466fde8",
   "metadata": {
    "ExecuteTime": {
     "end_time": "2023-04-14T18:42:05.920233Z",
     "start_time": "2023-04-14T18:42:05.901298Z"
    }
   },
   "outputs": [],
   "source": [
    "# data = {'outcome': svm_pred}\n",
    "# df = pd.DataFrame(data)\n",
    "\n",
    "# # specify the file path to save the text file\n",
    "# file_path = 'multiclass_h0606w.txt'\n",
    "\n",
    "# # extract the column and save it to a text file\n",
    "# df['outcome'].to_csv(file_path, index=False, header=False)"
   ]
  },
  {
   "cell_type": "code",
   "execution_count": 54,
   "id": "b2b2a30c",
   "metadata": {
    "ExecuteTime": {
     "end_time": "2023-04-14T18:42:07.151644Z",
     "start_time": "2023-04-14T18:42:05.925088Z"
    }
   },
   "outputs": [],
   "source": [
    "svm = SVC(kernel='linear', random_state=42)\n",
    "svm.fit(X_train_m, y_train_m)\n",
    "svm_pred = svm.predict(X_test_m)"
   ]
  },
  {
   "cell_type": "code",
   "execution_count": 55,
   "id": "f2ea7b46",
   "metadata": {
    "ExecuteTime": {
     "end_time": "2023-04-14T18:42:07.181126Z",
     "start_time": "2023-04-14T18:42:07.154050Z"
    }
   },
   "outputs": [
    {
     "name": "stdout",
     "output_type": "stream",
     "text": [
      "Accuracy: 0.9836979836979837\n"
     ]
    }
   ],
   "source": [
    "svm_accuracy = accuracy_score(y_test_m, svm_pred)\n",
    "print(\"Accuracy:\", svm_accuracy)"
   ]
  },
  {
   "cell_type": "code",
   "execution_count": 56,
   "id": "64d34571",
   "metadata": {
    "ExecuteTime": {
     "end_time": "2023-04-14T18:42:08.558692Z",
     "start_time": "2023-04-14T18:42:07.185992Z"
    }
   },
   "outputs": [],
   "source": [
    "######\n",
    "svm = SVC(kernel='linear', random_state=42)\n",
    "svm.fit(X_train_m, y_train_m)\n",
    "y_pred_m2 = svm.predict(test_df)\n",
    "#####"
   ]
  },
  {
   "cell_type": "code",
   "execution_count": 118,
   "id": "0d19256f",
   "metadata": {
    "ExecuteTime": {
     "end_time": "2023-04-14T20:45:14.150539Z",
     "start_time": "2023-04-14T20:45:12.846878Z"
    }
   },
   "outputs": [],
   "source": [
    "# -----------------\n",
    "svm = SVC(kernel='linear', random_state=42)\n",
    "svm.fit(X_train_m, y_train_m)\n",
    "svm1_pred_test = svm.predict(X_test_m)"
   ]
  },
  {
   "cell_type": "code",
   "execution_count": 57,
   "id": "4582d9d8",
   "metadata": {
    "ExecuteTime": {
     "end_time": "2023-04-14T18:42:08.584874Z",
     "start_time": "2023-04-14T18:42:08.561056Z"
    }
   },
   "outputs": [],
   "source": [
    "folds = KFold(n_splits = 5, shuffle = True, random_state = 10)\n",
    "hyper_params =  [{ 'C': [0.1,1,10],\n",
    "                'kernel': ['poly','rbf', 'linear'], 'gamma': [0.001, 0.01, 0.1, 1]}]"
   ]
  },
  {
   "cell_type": "code",
   "execution_count": 58,
   "id": "2a64b9c8",
   "metadata": {
    "ExecuteTime": {
     "end_time": "2023-04-14T18:42:08.606260Z",
     "start_time": "2023-04-14T18:42:08.604370Z"
    }
   },
   "outputs": [],
   "source": [
    "# model = SVC()\n",
    "# model_cv = GridSearchCV(estimator = model, \n",
    "#                         param_grid = hyper_params, \n",
    "#                         scoring= 'accuracy', \n",
    "#                         cv = folds, \n",
    "#                         n_jobs = -1) # number of jobs to run in parallel. -1 means using all processors.   \n",
    "# model_cv.fit(X_train_m, y_train_m)"
   ]
  },
  {
   "cell_type": "code",
   "execution_count": 59,
   "id": "5d01b3d6",
   "metadata": {
    "ExecuteTime": {
     "end_time": "2023-04-14T18:42:08.618407Z",
     "start_time": "2023-04-14T18:42:08.615897Z"
    }
   },
   "outputs": [],
   "source": [
    "# model_cv.best_params_"
   ]
  },
  {
   "cell_type": "code",
   "execution_count": 60,
   "id": "672033e6",
   "metadata": {
    "ExecuteTime": {
     "end_time": "2023-04-14T18:42:11.618199Z",
     "start_time": "2023-04-14T18:42:08.620903Z"
    }
   },
   "outputs": [
    {
     "name": "stdout",
     "output_type": "stream",
     "text": [
      "Accuracy: 0.9922779922779923\n"
     ]
    }
   ],
   "source": [
    "svm = SVC(C=10, gamma=0.01, kernel='rbf', random_state=42)\n",
    "svm.fit(X_train_m, y_train_m)\n",
    "svm_pred = svm.predict(X_test_m)\n",
    "\n",
    "# evaluate accuracy\n",
    "svm_accuracy = accuracy_score(y_test_m, svm_pred)\n",
    "print(\"Accuracy:\", svm_accuracy)"
   ]
  },
  {
   "cell_type": "code",
   "execution_count": 61,
   "id": "9655fb8c",
   "metadata": {
    "ExecuteTime": {
     "end_time": "2023-04-14T18:42:15.454006Z",
     "start_time": "2023-04-14T18:42:11.621873Z"
    }
   },
   "outputs": [],
   "source": [
    "######\n",
    "svm = SVC(C=10, gamma=0.01, kernel='rbf', random_state=42)\n",
    "svm.fit(X_train_m, y_train_m)\n",
    "y_pred_m3 = svm.predict(test_df)\n",
    "######"
   ]
  },
  {
   "cell_type": "code",
   "execution_count": 119,
   "id": "6acea5bd",
   "metadata": {
    "ExecuteTime": {
     "end_time": "2023-04-14T20:45:22.216078Z",
     "start_time": "2023-04-14T20:45:18.919016Z"
    }
   },
   "outputs": [],
   "source": [
    "# -----------------\n",
    "svm = SVC(C=10, gamma=0.01, kernel='rbf', random_state=42)\n",
    "svm.fit(X_train_m, y_train_m)\n",
    "svm2_pred_test = svm.predict(X_test_m)"
   ]
  },
  {
   "cell_type": "code",
   "execution_count": 62,
   "id": "7a8bee0d",
   "metadata": {
    "ExecuteTime": {
     "end_time": "2023-04-14T18:42:15.470103Z",
     "start_time": "2023-04-14T18:42:15.455918Z"
    }
   },
   "outputs": [],
   "source": [
    "# from sklearn.model_selection import cross_val_score, KFold\n",
    "\n",
    "# model = SVC(C=10, gamma=0.01, kernel='rbf', random_state=42)\n",
    "\n",
    "# # Create an instance of KFold\n",
    "# kf = KFold(n_splits=10, shuffle=True, random_state=42)\n",
    "\n",
    "# # Perform k-fold cross-validation\n",
    "# scores = cross_val_score(model, X_m, y_m, cv=kf, scoring='accuracy')\n",
    "\n",
    "# # Compute the mean and standard deviation of the scores\n",
    "# mean_score = scores.mean()\n",
    "# std_score = scores.std()\n",
    "\n",
    "# # Print the results\n",
    "# print(f\"Mean accuracy: {mean_score:.3f} (std: {std_score:.3f})\")\n"
   ]
  },
  {
   "cell_type": "code",
   "execution_count": 63,
   "id": "15086143",
   "metadata": {
    "ExecuteTime": {
     "end_time": "2023-04-14T18:42:15.488292Z",
     "start_time": "2023-04-14T18:42:15.479277Z"
    }
   },
   "outputs": [],
   "source": [
    "# from sklearn import metrics\n",
    "\n",
    "# # assuming y_true and y_pred are your true labels and predicted labels, respectively\n",
    "# balanced_accuracy = metrics.balanced_accuracy_score(y_test_m, svm_pred)\n",
    "# print(\"Balanced accuracy:\", balanced_accuracy)"
   ]
  },
  {
   "cell_type": "markdown",
   "id": "561926ca",
   "metadata": {},
   "source": [
    "### LDA"
   ]
  },
  {
   "cell_type": "code",
   "execution_count": 64,
   "id": "24704eb4",
   "metadata": {
    "ExecuteTime": {
     "end_time": "2023-04-14T18:42:15.504801Z",
     "start_time": "2023-04-14T18:42:15.490518Z"
    }
   },
   "outputs": [],
   "source": [
    "from sklearn.discriminant_analysis import LinearDiscriminantAnalysis"
   ]
  },
  {
   "cell_type": "code",
   "execution_count": 65,
   "id": "d11497b4",
   "metadata": {
    "ExecuteTime": {
     "end_time": "2023-04-14T18:42:16.349765Z",
     "start_time": "2023-04-14T18:42:15.508107Z"
    }
   },
   "outputs": [
    {
     "name": "stdout",
     "output_type": "stream",
     "text": [
      "Accuracy: 0.9819819819819819\n"
     ]
    }
   ],
   "source": [
    "lda = LinearDiscriminantAnalysis()\n",
    "\n",
    "# Fit the LDA model to the training data\n",
    "lda.fit(X_train_m, y_train_m)\n",
    "\n",
    "# Make predictions on the test data\n",
    "y_pred = lda.predict(X_test_m)\n",
    "\n",
    "# Calculate the accuracy score of the model\n",
    "accuracy = accuracy_score(y_test_m, y_pred)\n",
    "print(\"Accuracy:\", accuracy)"
   ]
  },
  {
   "cell_type": "code",
   "execution_count": 66,
   "id": "3e773a91",
   "metadata": {
    "ExecuteTime": {
     "end_time": "2023-04-14T18:42:17.044617Z",
     "start_time": "2023-04-14T18:42:16.355770Z"
    }
   },
   "outputs": [],
   "source": [
    "######\n",
    "lda = LinearDiscriminantAnalysis()\n",
    "\n",
    "# Fit the LDA model to the training data\n",
    "lda.fit(X_train_m, y_train_m)\n",
    "\n",
    "# Make predictions on the test data\n",
    "y_pred_m4 = lda.predict(test_df)\n",
    "######"
   ]
  },
  {
   "cell_type": "code",
   "execution_count": 120,
   "id": "7fb1980c",
   "metadata": {
    "ExecuteTime": {
     "end_time": "2023-04-14T20:45:49.677235Z",
     "start_time": "2023-04-14T20:45:48.918093Z"
    }
   },
   "outputs": [],
   "source": [
    "# -----------------\n",
    "lda = LinearDiscriminantAnalysis()\n",
    "lda.fit(X_train_m, y_train_m)\n",
    "lda_pred_test = lda.predict(X_test_m)"
   ]
  },
  {
   "cell_type": "markdown",
   "id": "6a04d4e3",
   "metadata": {},
   "source": [
    "### RF with less features"
   ]
  },
  {
   "cell_type": "code",
   "execution_count": 67,
   "id": "5af99b68",
   "metadata": {
    "ExecuteTime": {
     "end_time": "2023-04-14T18:42:26.965708Z",
     "start_time": "2023-04-14T18:42:17.047571Z"
    }
   },
   "outputs": [
    {
     "name": "stdout",
     "output_type": "stream",
     "text": [
      "Accuracy: 0.975975975975976\n"
     ]
    }
   ],
   "source": [
    "rf = RandomForestClassifier(n_estimators=100, random_state=42)\n",
    "rf.fit(X_train_m, y_train_m)\n",
    "rf_pred = rf.predict(X_test_m)\n",
    "\n",
    "# evaluate accuracy\n",
    "rf_accuracy = accuracy_score(y_test_m, rf_pred)\n",
    "print(\"Accuracy:\", rf_accuracy)"
   ]
  },
  {
   "cell_type": "code",
   "execution_count": 68,
   "id": "810154e3",
   "metadata": {
    "ExecuteTime": {
     "end_time": "2023-04-14T18:42:36.448291Z",
     "start_time": "2023-04-14T18:42:26.981905Z"
    }
   },
   "outputs": [],
   "source": [
    "#####\n",
    "rf = RandomForestClassifier(n_estimators=100, random_state=42)\n",
    "rf.fit(X_train_m, y_train_m)\n",
    "y_pred_m5 = rf.predict(test_df)\n",
    "#####"
   ]
  },
  {
   "cell_type": "code",
   "execution_count": 121,
   "id": "e320d039",
   "metadata": {
    "ExecuteTime": {
     "end_time": "2023-04-14T20:46:34.883194Z",
     "start_time": "2023-04-14T20:46:26.180517Z"
    }
   },
   "outputs": [],
   "source": [
    "# -----------------\n",
    "rf = RandomForestClassifier(n_estimators=100, random_state=42)\n",
    "rf.fit(X_train_m, y_train_m)\n",
    "rf1_pred_test = rf.predict(X_test_m)"
   ]
  },
  {
   "cell_type": "code",
   "execution_count": 122,
   "id": "9b1c691f",
   "metadata": {
    "ExecuteTime": {
     "end_time": "2023-04-14T20:46:39.932224Z",
     "start_time": "2023-04-14T20:46:39.904562Z"
    }
   },
   "outputs": [
    {
     "data": {
      "text/html": [
       "<div>\n",
       "<style scoped>\n",
       "    .dataframe tbody tr th:only-of-type {\n",
       "        vertical-align: middle;\n",
       "    }\n",
       "\n",
       "    .dataframe tbody tr th {\n",
       "        vertical-align: top;\n",
       "    }\n",
       "\n",
       "    .dataframe thead th {\n",
       "        text-align: right;\n",
       "    }\n",
       "</style>\n",
       "<table border=\"1\" class=\"dataframe\">\n",
       "  <thead>\n",
       "    <tr style=\"text-align: right;\">\n",
       "      <th></th>\n",
       "      <th>feature</th>\n",
       "      <th>importance</th>\n",
       "    </tr>\n",
       "  </thead>\n",
       "  <tbody>\n",
       "    <tr>\n",
       "      <th>0</th>\n",
       "      <td>F51</td>\n",
       "      <td>0.032482</td>\n",
       "    </tr>\n",
       "    <tr>\n",
       "      <th>1</th>\n",
       "      <td>F57</td>\n",
       "      <td>0.031033</td>\n",
       "    </tr>\n",
       "    <tr>\n",
       "      <th>2</th>\n",
       "      <td>F559</td>\n",
       "      <td>0.027570</td>\n",
       "    </tr>\n",
       "    <tr>\n",
       "      <th>3</th>\n",
       "      <td>F54</td>\n",
       "      <td>0.026847</td>\n",
       "    </tr>\n",
       "    <tr>\n",
       "      <th>4</th>\n",
       "      <td>F53</td>\n",
       "      <td>0.025332</td>\n",
       "    </tr>\n",
       "    <tr>\n",
       "      <th>...</th>\n",
       "      <td>...</td>\n",
       "      <td>...</td>\n",
       "    </tr>\n",
       "    <tr>\n",
       "      <th>557</th>\n",
       "      <td>F389</td>\n",
       "      <td>0.000088</td>\n",
       "    </tr>\n",
       "    <tr>\n",
       "      <th>558</th>\n",
       "      <td>F189</td>\n",
       "      <td>0.000087</td>\n",
       "    </tr>\n",
       "    <tr>\n",
       "      <th>559</th>\n",
       "      <td>F544</td>\n",
       "      <td>0.000085</td>\n",
       "    </tr>\n",
       "    <tr>\n",
       "      <th>560</th>\n",
       "      <td>F309</td>\n",
       "      <td>0.000075</td>\n",
       "    </tr>\n",
       "    <tr>\n",
       "      <th>561</th>\n",
       "      <td>F110</td>\n",
       "      <td>0.000060</td>\n",
       "    </tr>\n",
       "  </tbody>\n",
       "</table>\n",
       "<p>562 rows × 2 columns</p>\n",
       "</div>"
      ],
      "text/plain": [
       "    feature  importance\n",
       "0       F51    0.032482\n",
       "1       F57    0.031033\n",
       "2      F559    0.027570\n",
       "3       F54    0.026847\n",
       "4       F53    0.025332\n",
       "..      ...         ...\n",
       "557    F389    0.000088\n",
       "558    F189    0.000087\n",
       "559    F544    0.000085\n",
       "560    F309    0.000075\n",
       "561    F110    0.000060\n",
       "\n",
       "[562 rows x 2 columns]"
      ]
     },
     "execution_count": 122,
     "metadata": {},
     "output_type": "execute_result"
    }
   ],
   "source": [
    "importances = rf.feature_importances_\n",
    "df_importances = pd.DataFrame({'feature': X_train_m.columns, 'importance': importances})\n",
    "\n",
    "df_importances = df_importances.sort_values('importance', ascending=False).reset_index(drop=True)\n",
    "\n",
    "df_importances"
   ]
  },
  {
   "cell_type": "code",
   "execution_count": 70,
   "id": "bb689a3d",
   "metadata": {
    "ExecuteTime": {
     "end_time": "2023-04-14T18:42:44.914498Z",
     "start_time": "2023-04-14T18:42:36.498167Z"
    }
   },
   "outputs": [
    {
     "data": {
      "text/plain": [
       "0.9776919776919777"
      ]
     },
     "execution_count": 70,
     "metadata": {},
     "output_type": "execute_result"
    }
   ],
   "source": [
    "top_features = list(df_importances['feature'])[:300]\n",
    "X_train_reduced = X_train_m[top_features]\n",
    "X_test_reduced = X_test_m[top_features]\n",
    "rf_reduced = RandomForestClassifier(n_estimators=100, random_state=42)\n",
    "rf_reduced.fit(X_train_reduced, y_train_m)\n",
    "\n",
    "y_pred = rf_reduced.predict(X_test_reduced)\n",
    "accuracy_score(y_test_m, y_pred)"
   ]
  },
  {
   "cell_type": "code",
   "execution_count": 71,
   "id": "00b6d1ef",
   "metadata": {
    "ExecuteTime": {
     "end_time": "2023-04-14T18:42:50.765348Z",
     "start_time": "2023-04-14T18:42:44.917573Z"
    }
   },
   "outputs": [],
   "source": [
    "###########\n",
    "top_features = list(df_importances['feature'])[:300]\n",
    "X_train_reduced = X_train_m[top_features]\n",
    "test_reduced = test_df[top_features]\n",
    "rf_reduced = RandomForestClassifier(n_estimators=100, random_state=42)\n",
    "rf_reduced.fit(X_train_reduced, y_train_m)\n",
    "\n",
    "y_pred_m6 = rf_reduced.predict(test_reduced)\n"
   ]
  },
  {
   "cell_type": "code",
   "execution_count": 123,
   "id": "ffbfc1a1",
   "metadata": {
    "ExecuteTime": {
     "end_time": "2023-04-14T20:48:08.708133Z",
     "start_time": "2023-04-14T20:48:02.448002Z"
    }
   },
   "outputs": [],
   "source": [
    "# -------------\n",
    "top_features = list(df_importances['feature'])[:300]\n",
    "X_train_reduced = X_train_m[top_features]\n",
    "test_reduced = X_test_m[top_features]\n",
    "rf_reduced = RandomForestClassifier(n_estimators=100, random_state=42)\n",
    "rf_reduced.fit(X_train_reduced, y_train_m)\n",
    "\n",
    "rf_reduced_pred_test = rf_reduced.predict(test_reduced)"
   ]
  },
  {
   "cell_type": "markdown",
   "id": "d1333110",
   "metadata": {
    "ExecuteTime": {
     "end_time": "2023-04-11T18:52:05.573833Z",
     "start_time": "2023-04-11T18:52:05.570819Z"
    }
   },
   "source": [
    "### XGboost"
   ]
  },
  {
   "cell_type": "code",
   "execution_count": 94,
   "id": "c7bb6d7f",
   "metadata": {
    "ExecuteTime": {
     "end_time": "2023-04-14T18:54:06.200752Z",
     "start_time": "2023-04-14T18:54:06.196202Z"
    }
   },
   "outputs": [],
   "source": [
    "temp1 = y_train_m-1"
   ]
  },
  {
   "cell_type": "code",
   "execution_count": 89,
   "id": "75e1efb0",
   "metadata": {
    "ExecuteTime": {
     "end_time": "2023-04-14T18:52:33.646531Z",
     "start_time": "2023-04-14T18:52:33.640167Z"
    }
   },
   "outputs": [],
   "source": [
    "temp2=y_test_m-1"
   ]
  },
  {
   "cell_type": "code",
   "execution_count": 192,
   "id": "48dde9dc",
   "metadata": {
    "ExecuteTime": {
     "end_time": "2023-04-14T21:22:06.705324Z",
     "start_time": "2023-04-14T21:21:16.024389Z"
    }
   },
   "outputs": [
    {
     "name": "stdout",
     "output_type": "stream",
     "text": [
      "Accuracy: 0.9897039897039897\n"
     ]
    }
   ],
   "source": [
    "import xgboost as xgb\n",
    "xgboost = xgb.XGBClassifier()\n",
    "xgboost.fit(X_train_m, temp1)\n",
    "\n",
    "y_pred = xgboost.predict(X_test_m)\n",
    "\n",
    "# Calculate the accuracy score of the model\n",
    "accuracy = accuracy_score(temp2, y_pred)\n",
    "print(\"Accuracy:\", accuracy)"
   ]
  },
  {
   "cell_type": "code",
   "execution_count": 124,
   "id": "0ecdeb11",
   "metadata": {
    "ExecuteTime": {
     "end_time": "2023-04-14T20:50:10.048410Z",
     "start_time": "2023-04-14T20:49:15.958067Z"
    }
   },
   "outputs": [],
   "source": [
    "# ---------\n",
    "xgboost = xgb.XGBClassifier()\n",
    "xgboost.fit(X_train_m, temp)\n",
    "xgb_pred_test = xgboost.predict(X_test_m)\n",
    "xgb_pred_test = xgb_pred_test+1"
   ]
  },
  {
   "cell_type": "code",
   "execution_count": 193,
   "id": "2f3ff38b",
   "metadata": {
    "ExecuteTime": {
     "end_time": "2023-04-14T21:23:27.278489Z",
     "start_time": "2023-04-14T21:22:38.087663Z"
    }
   },
   "outputs": [],
   "source": [
    "xgboost = xgb.XGBClassifier()\n",
    "xgboost.fit(X_train_m, temp1)\n",
    "xgb_pred_test = xgboost.predict(test_df)\n",
    "xgb_pred_m = xgb_pred_test+1"
   ]
  },
  {
   "cell_type": "markdown",
   "id": "2fc13deb",
   "metadata": {},
   "source": [
    "### KNN"
   ]
  },
  {
   "cell_type": "code",
   "execution_count": 106,
   "id": "b0ee1a79",
   "metadata": {
    "ExecuteTime": {
     "end_time": "2023-04-14T20:06:20.721021Z",
     "start_time": "2023-04-14T20:06:20.321347Z"
    }
   },
   "outputs": [
    {
     "name": "stdout",
     "output_type": "stream",
     "text": [
      "Accuracy: 0.954954954954955\n"
     ]
    }
   ],
   "source": [
    "from sklearn.neighbors import KNeighborsClassifier\n",
    "knn = KNeighborsClassifier(n_neighbors=6)\n",
    "\n",
    "# fit the model on the training set\n",
    "knn.fit(X_train_m, y_train_m)\n",
    "\n",
    "y_pred_knn = knn.predict(X_test_m)\n",
    "accuracy = accuracy_score(y_test_m, y_pred_knn)\n",
    "print(\"Accuracy:\", accuracy)"
   ]
  },
  {
   "cell_type": "code",
   "execution_count": 79,
   "id": "14e561aa",
   "metadata": {
    "ExecuteTime": {
     "end_time": "2023-04-14T18:48:12.302620Z",
     "start_time": "2023-04-14T18:48:11.288483Z"
    }
   },
   "outputs": [],
   "source": [
    "#####\n",
    "knn = KNeighborsClassifier(n_neighbors=6)\n",
    "knn.fit(X_m, y_m)\n",
    "y_pred_m7 = knn.predict(test_df)\n",
    "#####"
   ]
  },
  {
   "cell_type": "code",
   "execution_count": 126,
   "id": "a2c9a5be",
   "metadata": {
    "ExecuteTime": {
     "end_time": "2023-04-14T20:51:49.766876Z",
     "start_time": "2023-04-14T20:51:49.379464Z"
    }
   },
   "outputs": [],
   "source": [
    "# --------\n",
    "knn = KNeighborsClassifier(n_neighbors=6)\n",
    "knn.fit(X_train_m, y_train_m)\n",
    "knn_pred_test = knn.predict(X_test_m)"
   ]
  },
  {
   "cell_type": "code",
   "execution_count": 108,
   "id": "9b6d6c81",
   "metadata": {
    "ExecuteTime": {
     "end_time": "2023-04-14T20:06:30.076612Z",
     "start_time": "2023-04-14T20:06:30.070200Z"
    }
   },
   "outputs": [
    {
     "data": {
      "text/plain": [
       "(5436, 562)"
      ]
     },
     "execution_count": 108,
     "metadata": {},
     "output_type": "execute_result"
    }
   ],
   "source": [
    "X_train_m.shape"
   ]
  },
  {
   "cell_type": "markdown",
   "id": "55c23b22",
   "metadata": {},
   "source": [
    "### Neural network"
   ]
  },
  {
   "cell_type": "code",
   "execution_count": 113,
   "id": "c0a0ef0d",
   "metadata": {
    "ExecuteTime": {
     "end_time": "2023-04-14T20:27:23.994238Z",
     "start_time": "2023-04-14T20:26:54.734501Z"
    },
    "collapsed": true
   },
   "outputs": [
    {
     "name": "stdout",
     "output_type": "stream",
     "text": [
      "Epoch 1/100\n"
     ]
    },
    {
     "name": "stderr",
     "output_type": "stream",
     "text": [
      "/Users/melissawang/opt/anaconda3/lib/python3.8/site-packages/keras/optimizers/optimizer_v2/adam.py:114: UserWarning: The `lr` argument is deprecated, use `learning_rate` instead.\n",
      "  super().__init__(name, **kwargs)\n"
     ]
    },
    {
     "name": "stdout",
     "output_type": "stream",
     "text": [
      "170/170 [==============================] - 1s 2ms/step - loss: 1.6923 - accuracy: 0.3186\n",
      "Epoch 2/100\n",
      "170/170 [==============================] - 0s 2ms/step - loss: 1.1383 - accuracy: 0.5353\n",
      "Epoch 3/100\n",
      "170/170 [==============================] - 0s 2ms/step - loss: 0.8566 - accuracy: 0.6382\n",
      "Epoch 4/100\n",
      "170/170 [==============================] - 0s 2ms/step - loss: 0.7166 - accuracy: 0.6996\n",
      "Epoch 5/100\n",
      "170/170 [==============================] - 0s 1ms/step - loss: 0.6217 - accuracy: 0.7276\n",
      "Epoch 6/100\n",
      "170/170 [==============================] - 0s 2ms/step - loss: 0.5561 - accuracy: 0.7640\n",
      "Epoch 7/100\n",
      "170/170 [==============================] - 0s 1ms/step - loss: 0.5282 - accuracy: 0.7723\n",
      "Epoch 8/100\n",
      "170/170 [==============================] - 0s 2ms/step - loss: 0.4856 - accuracy: 0.7907\n",
      "Epoch 9/100\n",
      "170/170 [==============================] - 0s 1ms/step - loss: 0.4553 - accuracy: 0.7976\n",
      "Epoch 10/100\n",
      "170/170 [==============================] - 0s 2ms/step - loss: 0.4435 - accuracy: 0.8120\n",
      "Epoch 11/100\n",
      "170/170 [==============================] - 0s 2ms/step - loss: 0.4217 - accuracy: 0.8166\n",
      "Epoch 12/100\n",
      "170/170 [==============================] - 0s 1ms/step - loss: 0.4204 - accuracy: 0.8258\n",
      "Epoch 13/100\n",
      "170/170 [==============================] - 0s 1ms/step - loss: 0.4024 - accuracy: 0.8331\n",
      "Epoch 14/100\n",
      "170/170 [==============================] - 0s 1ms/step - loss: 0.3910 - accuracy: 0.8400\n",
      "Epoch 15/100\n",
      "170/170 [==============================] - 0s 2ms/step - loss: 0.3654 - accuracy: 0.8512\n",
      "Epoch 16/100\n",
      "170/170 [==============================] - 0s 2ms/step - loss: 0.3533 - accuracy: 0.8526\n",
      "Epoch 17/100\n",
      "170/170 [==============================] - 0s 2ms/step - loss: 0.3496 - accuracy: 0.8584\n",
      "Epoch 18/100\n",
      "170/170 [==============================] - 0s 2ms/step - loss: 0.3416 - accuracy: 0.8611\n",
      "Epoch 19/100\n",
      "170/170 [==============================] - 0s 2ms/step - loss: 0.3464 - accuracy: 0.8606\n",
      "Epoch 20/100\n",
      "170/170 [==============================] - 0s 2ms/step - loss: 0.3386 - accuracy: 0.8567\n",
      "Epoch 21/100\n",
      "170/170 [==============================] - 0s 2ms/step - loss: 0.3171 - accuracy: 0.8659\n",
      "Epoch 22/100\n",
      "170/170 [==============================] - 0s 2ms/step - loss: 0.2886 - accuracy: 0.8797\n",
      "Epoch 23/100\n",
      "170/170 [==============================] - 0s 2ms/step - loss: 0.3099 - accuracy: 0.8727\n",
      "Epoch 24/100\n",
      "170/170 [==============================] - 0s 2ms/step - loss: 0.2947 - accuracy: 0.8804\n",
      "Epoch 25/100\n",
      "170/170 [==============================] - 0s 2ms/step - loss: 0.2994 - accuracy: 0.8758\n",
      "Epoch 26/100\n",
      "170/170 [==============================] - 0s 2ms/step - loss: 0.2893 - accuracy: 0.8845\n",
      "Epoch 27/100\n",
      "170/170 [==============================] - 0s 2ms/step - loss: 0.2925 - accuracy: 0.8780\n",
      "Epoch 28/100\n",
      "170/170 [==============================] - 0s 2ms/step - loss: 0.2997 - accuracy: 0.8766\n",
      "Epoch 29/100\n",
      "170/170 [==============================] - 0s 2ms/step - loss: 0.2871 - accuracy: 0.8856\n",
      "Epoch 30/100\n",
      "170/170 [==============================] - 0s 2ms/step - loss: 0.2724 - accuracy: 0.8858\n",
      "Epoch 31/100\n",
      "170/170 [==============================] - 0s 2ms/step - loss: 0.2890 - accuracy: 0.8832\n",
      "Epoch 32/100\n",
      "170/170 [==============================] - 0s 2ms/step - loss: 0.2784 - accuracy: 0.8922\n",
      "Epoch 33/100\n",
      "170/170 [==============================] - 0s 2ms/step - loss: 0.2751 - accuracy: 0.8966\n",
      "Epoch 34/100\n",
      "170/170 [==============================] - 0s 2ms/step - loss: 0.2821 - accuracy: 0.8837\n",
      "Epoch 35/100\n",
      "170/170 [==============================] - 0s 2ms/step - loss: 0.2512 - accuracy: 0.9005\n",
      "Epoch 36/100\n",
      "170/170 [==============================] - 0s 2ms/step - loss: 0.2695 - accuracy: 0.8861\n",
      "Epoch 37/100\n",
      "170/170 [==============================] - 0s 2ms/step - loss: 0.2817 - accuracy: 0.8791\n",
      "Epoch 38/100\n",
      "170/170 [==============================] - 0s 2ms/step - loss: 0.2588 - accuracy: 0.8962\n",
      "Epoch 39/100\n",
      "170/170 [==============================] - 0s 2ms/step - loss: 0.2753 - accuracy: 0.8887\n",
      "Epoch 40/100\n",
      "170/170 [==============================] - 0s 2ms/step - loss: 0.2758 - accuracy: 0.8812\n",
      "Epoch 41/100\n",
      "170/170 [==============================] - 0s 2ms/step - loss: 0.2672 - accuracy: 0.8880\n",
      "Epoch 42/100\n",
      "170/170 [==============================] - 0s 2ms/step - loss: 0.2334 - accuracy: 0.9071\n",
      "Epoch 43/100\n",
      "170/170 [==============================] - 0s 2ms/step - loss: 0.2724 - accuracy: 0.8817\n",
      "Epoch 44/100\n",
      "170/170 [==============================] - 0s 2ms/step - loss: 0.2561 - accuracy: 0.8979\n",
      "Epoch 45/100\n",
      "170/170 [==============================] - 1s 3ms/step - loss: 0.2460 - accuracy: 0.8957\n",
      "Epoch 46/100\n",
      "170/170 [==============================] - 0s 2ms/step - loss: 0.2417 - accuracy: 0.8997\n",
      "Epoch 47/100\n",
      "170/170 [==============================] - 0s 1ms/step - loss: 0.2219 - accuracy: 0.9069\n",
      "Epoch 48/100\n",
      "170/170 [==============================] - 0s 2ms/step - loss: 0.2478 - accuracy: 0.8975\n",
      "Epoch 49/100\n",
      "170/170 [==============================] - 0s 1ms/step - loss: 0.2318 - accuracy: 0.9078\n",
      "Epoch 50/100\n",
      "170/170 [==============================] - 0s 2ms/step - loss: 0.2444 - accuracy: 0.8942\n",
      "Epoch 51/100\n",
      "170/170 [==============================] - 0s 2ms/step - loss: 0.2532 - accuracy: 0.9003\n",
      "Epoch 52/100\n",
      "170/170 [==============================] - 0s 1ms/step - loss: 0.2487 - accuracy: 0.8916\n",
      "Epoch 53/100\n",
      "170/170 [==============================] - 0s 2ms/step - loss: 0.2470 - accuracy: 0.8902\n",
      "Epoch 54/100\n",
      "170/170 [==============================] - 0s 2ms/step - loss: 0.2296 - accuracy: 0.9065\n",
      "Epoch 55/100\n",
      "170/170 [==============================] - 0s 1ms/step - loss: 0.2409 - accuracy: 0.8959\n",
      "Epoch 56/100\n",
      "170/170 [==============================] - 0s 1ms/step - loss: 0.2455 - accuracy: 0.8994\n",
      "Epoch 57/100\n",
      "170/170 [==============================] - 0s 2ms/step - loss: 0.2383 - accuracy: 0.8964\n",
      "Epoch 58/100\n",
      "170/170 [==============================] - 0s 2ms/step - loss: 0.2633 - accuracy: 0.8937\n",
      "Epoch 59/100\n",
      "170/170 [==============================] - 0s 2ms/step - loss: 0.2340 - accuracy: 0.8942\n",
      "Epoch 60/100\n",
      "170/170 [==============================] - 0s 2ms/step - loss: 0.2477 - accuracy: 0.8997\n",
      "Epoch 61/100\n",
      "170/170 [==============================] - 0s 2ms/step - loss: 0.2414 - accuracy: 0.8966\n",
      "Epoch 62/100\n",
      "170/170 [==============================] - 0s 2ms/step - loss: 0.2557 - accuracy: 0.8981\n",
      "Epoch 63/100\n",
      "170/170 [==============================] - 0s 2ms/step - loss: 0.2366 - accuracy: 0.8953\n",
      "Epoch 64/100\n",
      "170/170 [==============================] - 0s 2ms/step - loss: 0.2644 - accuracy: 0.8882\n",
      "Epoch 65/100\n",
      "170/170 [==============================] - 0s 2ms/step - loss: 0.2476 - accuracy: 0.9003\n",
      "Epoch 66/100\n",
      "170/170 [==============================] - 0s 1ms/step - loss: 0.2315 - accuracy: 0.9005\n",
      "Epoch 67/100\n",
      "170/170 [==============================] - 0s 1ms/step - loss: 0.2437 - accuracy: 0.8955\n",
      "Epoch 68/100\n",
      "170/170 [==============================] - 0s 1ms/step - loss: 0.2144 - accuracy: 0.9075\n",
      "Epoch 69/100\n",
      "170/170 [==============================] - 0s 1ms/step - loss: 0.2052 - accuracy: 0.9093\n",
      "Epoch 70/100\n",
      "170/170 [==============================] - 0s 1ms/step - loss: 0.2152 - accuracy: 0.9128\n",
      "Epoch 71/100\n",
      "170/170 [==============================] - 0s 2ms/step - loss: 0.2292 - accuracy: 0.8974\n",
      "Epoch 72/100\n",
      "170/170 [==============================] - 0s 2ms/step - loss: 0.2407 - accuracy: 0.8902\n",
      "Epoch 73/100\n",
      "170/170 [==============================] - 0s 2ms/step - loss: 0.2264 - accuracy: 0.9031\n",
      "Epoch 74/100\n",
      "170/170 [==============================] - 0s 2ms/step - loss: 0.2190 - accuracy: 0.9089\n",
      "Epoch 75/100\n",
      "170/170 [==============================] - 0s 2ms/step - loss: 0.2047 - accuracy: 0.9148\n",
      "Epoch 76/100\n",
      "170/170 [==============================] - 0s 2ms/step - loss: 0.2191 - accuracy: 0.9097\n",
      "Epoch 77/100\n",
      "170/170 [==============================] - 0s 2ms/step - loss: 0.2271 - accuracy: 0.9003\n",
      "Epoch 78/100\n",
      "170/170 [==============================] - 0s 2ms/step - loss: 0.2202 - accuracy: 0.9036\n",
      "Epoch 79/100\n",
      "170/170 [==============================] - 0s 2ms/step - loss: 0.2323 - accuracy: 0.8920\n",
      "Epoch 80/100\n",
      "170/170 [==============================] - 0s 2ms/step - loss: 0.2509 - accuracy: 0.8865\n",
      "Epoch 81/100\n"
     ]
    },
    {
     "name": "stdout",
     "output_type": "stream",
     "text": [
      "170/170 [==============================] - 0s 1ms/step - loss: 0.2312 - accuracy: 0.8986\n",
      "Epoch 82/100\n",
      "170/170 [==============================] - 0s 1ms/step - loss: 0.2287 - accuracy: 0.8992\n",
      "Epoch 83/100\n",
      "170/170 [==============================] - 0s 2ms/step - loss: 0.2442 - accuracy: 0.8942\n",
      "Epoch 84/100\n",
      "170/170 [==============================] - 0s 2ms/step - loss: 0.2418 - accuracy: 0.8979\n",
      "Epoch 85/100\n",
      "170/170 [==============================] - 0s 2ms/step - loss: 0.2190 - accuracy: 0.9051\n",
      "Epoch 86/100\n",
      "170/170 [==============================] - 0s 1ms/step - loss: 0.2188 - accuracy: 0.9043\n",
      "Epoch 87/100\n",
      "170/170 [==============================] - 0s 1ms/step - loss: 0.2490 - accuracy: 0.8869\n",
      "Epoch 88/100\n",
      "170/170 [==============================] - 0s 2ms/step - loss: 0.2360 - accuracy: 0.9014\n",
      "Epoch 89/100\n",
      "170/170 [==============================] - 0s 2ms/step - loss: 0.2156 - accuracy: 0.9034\n",
      "Epoch 90/100\n",
      "170/170 [==============================] - 0s 2ms/step - loss: 0.2163 - accuracy: 0.9043\n",
      "Epoch 91/100\n",
      "170/170 [==============================] - 0s 2ms/step - loss: 0.2186 - accuracy: 0.9045\n",
      "Epoch 92/100\n",
      "170/170 [==============================] - 0s 2ms/step - loss: 0.2073 - accuracy: 0.9108\n",
      "Epoch 93/100\n",
      "170/170 [==============================] - 0s 1ms/step - loss: 0.2436 - accuracy: 0.8935\n",
      "Epoch 94/100\n",
      "170/170 [==============================] - 0s 1ms/step - loss: 0.2148 - accuracy: 0.9065\n",
      "Epoch 95/100\n",
      "170/170 [==============================] - 0s 2ms/step - loss: 0.2180 - accuracy: 0.9119\n",
      "Epoch 96/100\n",
      "170/170 [==============================] - 0s 2ms/step - loss: 0.2297 - accuracy: 0.9051\n",
      "Epoch 97/100\n",
      "170/170 [==============================] - 0s 2ms/step - loss: 0.2195 - accuracy: 0.9040\n",
      "Epoch 98/100\n",
      "170/170 [==============================] - 0s 2ms/step - loss: 0.2342 - accuracy: 0.9042\n",
      "Epoch 99/100\n",
      "170/170 [==============================] - 0s 2ms/step - loss: 0.2121 - accuracy: 0.9064\n",
      "Epoch 100/100\n",
      "170/170 [==============================] - 0s 2ms/step - loss: 0.2205 - accuracy: 0.9073\n",
      "73/73 [==============================] - 0s 1ms/step - loss: 0.0709 - accuracy: 0.9695\n",
      "Test accuracy: 0.9695409536361694\n"
     ]
    }
   ],
   "source": [
    "import tensorflow as tf\n",
    "from tensorflow.keras.models import Sequential\n",
    "from tensorflow.keras.layers import Dense, Dropout\n",
    "from tensorflow.keras.optimizers import Adam\n",
    "\n",
    "from keras.utils import to_categorical\n",
    "\n",
    "# get the input dimensionality of your training data\n",
    "input_dim = X_train_m.shape[1]\n",
    "\n",
    "# set the number of classes in your classification problem\n",
    "num_classes = 7\n",
    "\n",
    "y_train_mt = to_categorical(temp1, num_classes=num_classes)\n",
    "y_test_mt = to_categorical(temp2, num_classes=num_classes)\n",
    "\n",
    "# set the learning rate for the optimizer\n",
    "learning_rate = 0.001\n",
    "\n",
    "# set the batch size and number of epochs for training\n",
    "batch_size = 32\n",
    "num_epochs = 100\n",
    "\n",
    "# define the model architecture\n",
    "model = Sequential([\n",
    "    Dense(64, activation='relu', input_shape=(input_dim,)),\n",
    "    Dropout(0.5),\n",
    "    Dense(32, activation='relu'),\n",
    "    Dropout(0.5),\n",
    "    Dense(num_classes, activation='softmax')\n",
    "])\n",
    "\n",
    "# compile the model\n",
    "model.compile(loss='categorical_crossentropy', optimizer=Adam(lr=learning_rate), metrics=['accuracy'])\n",
    "\n",
    "# train the model\n",
    "model.fit(X_train_m, y_train_mt, batch_size=batch_size, epochs=num_epochs)\n",
    "\n",
    "# evaluate the model on test data\n",
    "test_loss, test_acc = model.evaluate(X_test_m, y_test_mt)\n",
    "\n",
    "print('Test accuracy:', test_acc)"
   ]
  },
  {
   "cell_type": "code",
   "execution_count": null,
   "id": "12b38078",
   "metadata": {},
   "outputs": [],
   "source": []
  },
  {
   "cell_type": "markdown",
   "id": "478a7dcd",
   "metadata": {},
   "source": [
    "### Ensemble mutilclass （final algorithm)"
   ]
  },
  {
   "cell_type": "code",
   "execution_count": 231,
   "id": "e73201c0",
   "metadata": {
    "ExecuteTime": {
     "end_time": "2023-04-15T03:28:53.423297Z",
     "start_time": "2023-04-15T03:28:51.827430Z"
    }
   },
   "outputs": [],
   "source": [
    "# create DataFrame with one column for each model's predictions\n",
    "ensemble_m = pd.DataFrame({'ridge': log2_pred_m, 'SVM_linear':y_pred_m2 , 'SVM_rbf':y_pred_m3, \n",
    "                          'LDA':y_pred_m4, 'RF_fs':y_pred_m6, 'knn':y_pred_m7, 'xgboost':xgb_pred_m})\n",
    "\n",
    "# compute majority vote for each row (i.e., sample)\n",
    "ensemble_m['majority_vote'] = ensemble_m.mode(axis=1)[0]"
   ]
  },
  {
   "cell_type": "code",
   "execution_count": 232,
   "id": "fe3238ba",
   "metadata": {
    "ExecuteTime": {
     "end_time": "2023-04-15T03:28:59.108898Z",
     "start_time": "2023-04-15T03:28:59.094420Z"
    }
   },
   "outputs": [
    {
     "data": {
      "text/html": [
       "<div>\n",
       "<style scoped>\n",
       "    .dataframe tbody tr th:only-of-type {\n",
       "        vertical-align: middle;\n",
       "    }\n",
       "\n",
       "    .dataframe tbody tr th {\n",
       "        vertical-align: top;\n",
       "    }\n",
       "\n",
       "    .dataframe thead th {\n",
       "        text-align: right;\n",
       "    }\n",
       "</style>\n",
       "<table border=\"1\" class=\"dataframe\">\n",
       "  <thead>\n",
       "    <tr style=\"text-align: right;\">\n",
       "      <th></th>\n",
       "      <th>ridge</th>\n",
       "      <th>SVM_linear</th>\n",
       "      <th>SVM_rbf</th>\n",
       "      <th>LDA</th>\n",
       "      <th>RF_fs</th>\n",
       "      <th>knn</th>\n",
       "      <th>xgboost</th>\n",
       "      <th>majority_vote</th>\n",
       "    </tr>\n",
       "  </thead>\n",
       "  <tbody>\n",
       "    <tr>\n",
       "      <th>0</th>\n",
       "      <td>5</td>\n",
       "      <td>5</td>\n",
       "      <td>5</td>\n",
       "      <td>5</td>\n",
       "      <td>5</td>\n",
       "      <td>5</td>\n",
       "      <td>5</td>\n",
       "      <td>5</td>\n",
       "    </tr>\n",
       "    <tr>\n",
       "      <th>1</th>\n",
       "      <td>5</td>\n",
       "      <td>5</td>\n",
       "      <td>5</td>\n",
       "      <td>5</td>\n",
       "      <td>5</td>\n",
       "      <td>5</td>\n",
       "      <td>5</td>\n",
       "      <td>5</td>\n",
       "    </tr>\n",
       "    <tr>\n",
       "      <th>2</th>\n",
       "      <td>5</td>\n",
       "      <td>5</td>\n",
       "      <td>5</td>\n",
       "      <td>5</td>\n",
       "      <td>5</td>\n",
       "      <td>5</td>\n",
       "      <td>5</td>\n",
       "      <td>5</td>\n",
       "    </tr>\n",
       "    <tr>\n",
       "      <th>3</th>\n",
       "      <td>5</td>\n",
       "      <td>5</td>\n",
       "      <td>5</td>\n",
       "      <td>5</td>\n",
       "      <td>5</td>\n",
       "      <td>5</td>\n",
       "      <td>5</td>\n",
       "      <td>5</td>\n",
       "    </tr>\n",
       "    <tr>\n",
       "      <th>4</th>\n",
       "      <td>5</td>\n",
       "      <td>5</td>\n",
       "      <td>5</td>\n",
       "      <td>5</td>\n",
       "      <td>5</td>\n",
       "      <td>5</td>\n",
       "      <td>5</td>\n",
       "      <td>5</td>\n",
       "    </tr>\n",
       "    <tr>\n",
       "      <th>...</th>\n",
       "      <td>...</td>\n",
       "      <td>...</td>\n",
       "      <td>...</td>\n",
       "      <td>...</td>\n",
       "      <td>...</td>\n",
       "      <td>...</td>\n",
       "      <td>...</td>\n",
       "      <td>...</td>\n",
       "    </tr>\n",
       "    <tr>\n",
       "      <th>3157</th>\n",
       "      <td>2</td>\n",
       "      <td>2</td>\n",
       "      <td>2</td>\n",
       "      <td>2</td>\n",
       "      <td>2</td>\n",
       "      <td>2</td>\n",
       "      <td>2</td>\n",
       "      <td>2</td>\n",
       "    </tr>\n",
       "    <tr>\n",
       "      <th>3158</th>\n",
       "      <td>2</td>\n",
       "      <td>2</td>\n",
       "      <td>2</td>\n",
       "      <td>2</td>\n",
       "      <td>2</td>\n",
       "      <td>2</td>\n",
       "      <td>2</td>\n",
       "      <td>2</td>\n",
       "    </tr>\n",
       "    <tr>\n",
       "      <th>3159</th>\n",
       "      <td>2</td>\n",
       "      <td>2</td>\n",
       "      <td>2</td>\n",
       "      <td>2</td>\n",
       "      <td>2</td>\n",
       "      <td>2</td>\n",
       "      <td>2</td>\n",
       "      <td>2</td>\n",
       "    </tr>\n",
       "    <tr>\n",
       "      <th>3160</th>\n",
       "      <td>2</td>\n",
       "      <td>2</td>\n",
       "      <td>2</td>\n",
       "      <td>2</td>\n",
       "      <td>2</td>\n",
       "      <td>2</td>\n",
       "      <td>2</td>\n",
       "      <td>2</td>\n",
       "    </tr>\n",
       "    <tr>\n",
       "      <th>3161</th>\n",
       "      <td>2</td>\n",
       "      <td>2</td>\n",
       "      <td>2</td>\n",
       "      <td>2</td>\n",
       "      <td>1</td>\n",
       "      <td>2</td>\n",
       "      <td>2</td>\n",
       "      <td>2</td>\n",
       "    </tr>\n",
       "  </tbody>\n",
       "</table>\n",
       "<p>3162 rows × 8 columns</p>\n",
       "</div>"
      ],
      "text/plain": [
       "      ridge  SVM_linear  SVM_rbf  LDA  RF_fs  knn  xgboost  majority_vote\n",
       "0         5           5        5    5      5    5        5              5\n",
       "1         5           5        5    5      5    5        5              5\n",
       "2         5           5        5    5      5    5        5              5\n",
       "3         5           5        5    5      5    5        5              5\n",
       "4         5           5        5    5      5    5        5              5\n",
       "...     ...         ...      ...  ...    ...  ...      ...            ...\n",
       "3157      2           2        2    2      2    2        2              2\n",
       "3158      2           2        2    2      2    2        2              2\n",
       "3159      2           2        2    2      2    2        2              2\n",
       "3160      2           2        2    2      2    2        2              2\n",
       "3161      2           2        2    2      1    2        2              2\n",
       "\n",
       "[3162 rows x 8 columns]"
      ]
     },
     "execution_count": 232,
     "metadata": {},
     "output_type": "execute_result"
    }
   ],
   "source": [
    "ensemble_m['majority_vote'] = ensemble_m['majority_vote'].astype(int)\n",
    "ensemble_m"
   ]
  },
  {
   "cell_type": "code",
   "execution_count": 233,
   "id": "b1dc74d1",
   "metadata": {
    "ExecuteTime": {
     "end_time": "2023-04-15T03:29:05.020550Z",
     "start_time": "2023-04-15T03:29:04.809762Z"
    }
   },
   "outputs": [
    {
     "data": {
      "text/html": [
       "<div>\n",
       "<style scoped>\n",
       "    .dataframe tbody tr th:only-of-type {\n",
       "        vertical-align: middle;\n",
       "    }\n",
       "\n",
       "    .dataframe tbody tr th {\n",
       "        vertical-align: top;\n",
       "    }\n",
       "\n",
       "    .dataframe thead th {\n",
       "        text-align: right;\n",
       "    }\n",
       "</style>\n",
       "<table border=\"1\" class=\"dataframe\">\n",
       "  <thead>\n",
       "    <tr style=\"text-align: right;\">\n",
       "      <th></th>\n",
       "      <th>ridge</th>\n",
       "      <th>SVM_linear</th>\n",
       "      <th>SVM_rbf</th>\n",
       "      <th>LDA</th>\n",
       "      <th>RF_fs</th>\n",
       "      <th>knn</th>\n",
       "      <th>xgboost</th>\n",
       "      <th>majority_vote</th>\n",
       "    </tr>\n",
       "  </thead>\n",
       "  <tbody>\n",
       "    <tr>\n",
       "      <th>9</th>\n",
       "      <td>5</td>\n",
       "      <td>5</td>\n",
       "      <td>5</td>\n",
       "      <td>5</td>\n",
       "      <td>5</td>\n",
       "      <td>4</td>\n",
       "      <td>5</td>\n",
       "      <td>5</td>\n",
       "    </tr>\n",
       "    <tr>\n",
       "      <th>10</th>\n",
       "      <td>5</td>\n",
       "      <td>5</td>\n",
       "      <td>5</td>\n",
       "      <td>5</td>\n",
       "      <td>5</td>\n",
       "      <td>4</td>\n",
       "      <td>5</td>\n",
       "      <td>5</td>\n",
       "    </tr>\n",
       "    <tr>\n",
       "      <th>16</th>\n",
       "      <td>2</td>\n",
       "      <td>7</td>\n",
       "      <td>7</td>\n",
       "      <td>7</td>\n",
       "      <td>7</td>\n",
       "      <td>2</td>\n",
       "      <td>7</td>\n",
       "      <td>7</td>\n",
       "    </tr>\n",
       "    <tr>\n",
       "      <th>17</th>\n",
       "      <td>4</td>\n",
       "      <td>4</td>\n",
       "      <td>5</td>\n",
       "      <td>4</td>\n",
       "      <td>5</td>\n",
       "      <td>4</td>\n",
       "      <td>5</td>\n",
       "      <td>4</td>\n",
       "    </tr>\n",
       "    <tr>\n",
       "      <th>18</th>\n",
       "      <td>5</td>\n",
       "      <td>5</td>\n",
       "      <td>4</td>\n",
       "      <td>4</td>\n",
       "      <td>5</td>\n",
       "      <td>4</td>\n",
       "      <td>5</td>\n",
       "      <td>5</td>\n",
       "    </tr>\n",
       "    <tr>\n",
       "      <th>...</th>\n",
       "      <td>...</td>\n",
       "      <td>...</td>\n",
       "      <td>...</td>\n",
       "      <td>...</td>\n",
       "      <td>...</td>\n",
       "      <td>...</td>\n",
       "      <td>...</td>\n",
       "      <td>...</td>\n",
       "    </tr>\n",
       "    <tr>\n",
       "      <th>3143</th>\n",
       "      <td>3</td>\n",
       "      <td>3</td>\n",
       "      <td>3</td>\n",
       "      <td>3</td>\n",
       "      <td>3</td>\n",
       "      <td>1</td>\n",
       "      <td>3</td>\n",
       "      <td>3</td>\n",
       "    </tr>\n",
       "    <tr>\n",
       "      <th>3145</th>\n",
       "      <td>3</td>\n",
       "      <td>3</td>\n",
       "      <td>3</td>\n",
       "      <td>3</td>\n",
       "      <td>3</td>\n",
       "      <td>1</td>\n",
       "      <td>3</td>\n",
       "      <td>3</td>\n",
       "    </tr>\n",
       "    <tr>\n",
       "      <th>3147</th>\n",
       "      <td>3</td>\n",
       "      <td>3</td>\n",
       "      <td>3</td>\n",
       "      <td>3</td>\n",
       "      <td>3</td>\n",
       "      <td>1</td>\n",
       "      <td>3</td>\n",
       "      <td>3</td>\n",
       "    </tr>\n",
       "    <tr>\n",
       "      <th>3154</th>\n",
       "      <td>2</td>\n",
       "      <td>2</td>\n",
       "      <td>2</td>\n",
       "      <td>2</td>\n",
       "      <td>1</td>\n",
       "      <td>2</td>\n",
       "      <td>2</td>\n",
       "      <td>2</td>\n",
       "    </tr>\n",
       "    <tr>\n",
       "      <th>3161</th>\n",
       "      <td>2</td>\n",
       "      <td>2</td>\n",
       "      <td>2</td>\n",
       "      <td>2</td>\n",
       "      <td>1</td>\n",
       "      <td>2</td>\n",
       "      <td>2</td>\n",
       "      <td>2</td>\n",
       "    </tr>\n",
       "  </tbody>\n",
       "</table>\n",
       "<p>783 rows × 8 columns</p>\n",
       "</div>"
      ],
      "text/plain": [
       "      ridge  SVM_linear  SVM_rbf  LDA  RF_fs  knn  xgboost  majority_vote\n",
       "9         5           5        5    5      5    4        5              5\n",
       "10        5           5        5    5      5    4        5              5\n",
       "16        2           7        7    7      7    2        7              7\n",
       "17        4           4        5    4      5    4        5              4\n",
       "18        5           5        4    4      5    4        5              5\n",
       "...     ...         ...      ...  ...    ...  ...      ...            ...\n",
       "3143      3           3        3    3      3    1        3              3\n",
       "3145      3           3        3    3      3    1        3              3\n",
       "3147      3           3        3    3      3    1        3              3\n",
       "3154      2           2        2    2      1    2        2              2\n",
       "3161      2           2        2    2      1    2        2              2\n",
       "\n",
       "[783 rows x 8 columns]"
      ]
     },
     "execution_count": 233,
     "metadata": {},
     "output_type": "execute_result"
    }
   ],
   "source": [
    "mask = ((ensemble_m.nunique(axis=1) > 1) | (ensemble_m.isna().sum(axis=1) > 1))\n",
    "ensemble_m[mask]"
   ]
  },
  {
   "cell_type": "code",
   "execution_count": 83,
   "id": "c4edceae",
   "metadata": {
    "ExecuteTime": {
     "end_time": "2023-04-14T18:48:14.651017Z",
     "start_time": "2023-04-14T18:48:14.638167Z"
    }
   },
   "outputs": [],
   "source": [
    "last_pred = pd.read_csv('multiclass_h0606w_2.txt', header=None)\n",
    "ensemble_m['last_pred'] = last_pred[0]"
   ]
  },
  {
   "cell_type": "code",
   "execution_count": 84,
   "id": "b4b43318",
   "metadata": {
    "ExecuteTime": {
     "end_time": "2023-04-14T18:48:14.669196Z",
     "start_time": "2023-04-14T18:48:14.653803Z"
    }
   },
   "outputs": [
    {
     "data": {
      "text/html": [
       "<div>\n",
       "<style scoped>\n",
       "    .dataframe tbody tr th:only-of-type {\n",
       "        vertical-align: middle;\n",
       "    }\n",
       "\n",
       "    .dataframe tbody tr th {\n",
       "        vertical-align: top;\n",
       "    }\n",
       "\n",
       "    .dataframe thead th {\n",
       "        text-align: right;\n",
       "    }\n",
       "</style>\n",
       "<table border=\"1\" class=\"dataframe\">\n",
       "  <thead>\n",
       "    <tr style=\"text-align: right;\">\n",
       "      <th></th>\n",
       "      <th>logistic</th>\n",
       "      <th>SVM_linear</th>\n",
       "      <th>SVM_rbf</th>\n",
       "      <th>LDA</th>\n",
       "      <th>RF</th>\n",
       "      <th>RF_fs</th>\n",
       "      <th>knn</th>\n",
       "      <th>majority_vote</th>\n",
       "      <th>last_pred</th>\n",
       "    </tr>\n",
       "  </thead>\n",
       "  <tbody>\n",
       "    <tr>\n",
       "      <th>17</th>\n",
       "      <td>4</td>\n",
       "      <td>4</td>\n",
       "      <td>5</td>\n",
       "      <td>4</td>\n",
       "      <td>5</td>\n",
       "      <td>5</td>\n",
       "      <td>4</td>\n",
       "      <td>4</td>\n",
       "      <td>5</td>\n",
       "    </tr>\n",
       "    <tr>\n",
       "      <th>18</th>\n",
       "      <td>5</td>\n",
       "      <td>5</td>\n",
       "      <td>4</td>\n",
       "      <td>4</td>\n",
       "      <td>5</td>\n",
       "      <td>5</td>\n",
       "      <td>4</td>\n",
       "      <td>5</td>\n",
       "      <td>4</td>\n",
       "    </tr>\n",
       "    <tr>\n",
       "      <th>19</th>\n",
       "      <td>4</td>\n",
       "      <td>4</td>\n",
       "      <td>5</td>\n",
       "      <td>4</td>\n",
       "      <td>4</td>\n",
       "      <td>4</td>\n",
       "      <td>4</td>\n",
       "      <td>4</td>\n",
       "      <td>5</td>\n",
       "    </tr>\n",
       "    <tr>\n",
       "      <th>20</th>\n",
       "      <td>4</td>\n",
       "      <td>4</td>\n",
       "      <td>5</td>\n",
       "      <td>4</td>\n",
       "      <td>4</td>\n",
       "      <td>4</td>\n",
       "      <td>5</td>\n",
       "      <td>4</td>\n",
       "      <td>5</td>\n",
       "    </tr>\n",
       "    <tr>\n",
       "      <th>24</th>\n",
       "      <td>5</td>\n",
       "      <td>4</td>\n",
       "      <td>5</td>\n",
       "      <td>4</td>\n",
       "      <td>4</td>\n",
       "      <td>4</td>\n",
       "      <td>5</td>\n",
       "      <td>4</td>\n",
       "      <td>5</td>\n",
       "    </tr>\n",
       "    <tr>\n",
       "      <th>25</th>\n",
       "      <td>4</td>\n",
       "      <td>4</td>\n",
       "      <td>5</td>\n",
       "      <td>4</td>\n",
       "      <td>4</td>\n",
       "      <td>4</td>\n",
       "      <td>5</td>\n",
       "      <td>4</td>\n",
       "      <td>5</td>\n",
       "    </tr>\n",
       "    <tr>\n",
       "      <th>68</th>\n",
       "      <td>5</td>\n",
       "      <td>5</td>\n",
       "      <td>4</td>\n",
       "      <td>5</td>\n",
       "      <td>5</td>\n",
       "      <td>5</td>\n",
       "      <td>4</td>\n",
       "      <td>5</td>\n",
       "      <td>4</td>\n",
       "    </tr>\n",
       "    <tr>\n",
       "      <th>73</th>\n",
       "      <td>5</td>\n",
       "      <td>4</td>\n",
       "      <td>5</td>\n",
       "      <td>4</td>\n",
       "      <td>4</td>\n",
       "      <td>4</td>\n",
       "      <td>5</td>\n",
       "      <td>4</td>\n",
       "      <td>5</td>\n",
       "    </tr>\n",
       "    <tr>\n",
       "      <th>74</th>\n",
       "      <td>5</td>\n",
       "      <td>4</td>\n",
       "      <td>5</td>\n",
       "      <td>4</td>\n",
       "      <td>4</td>\n",
       "      <td>4</td>\n",
       "      <td>5</td>\n",
       "      <td>4</td>\n",
       "      <td>5</td>\n",
       "    </tr>\n",
       "    <tr>\n",
       "      <th>75</th>\n",
       "      <td>4</td>\n",
       "      <td>4</td>\n",
       "      <td>5</td>\n",
       "      <td>4</td>\n",
       "      <td>4</td>\n",
       "      <td>4</td>\n",
       "      <td>5</td>\n",
       "      <td>4</td>\n",
       "      <td>5</td>\n",
       "    </tr>\n",
       "    <tr>\n",
       "      <th>76</th>\n",
       "      <td>5</td>\n",
       "      <td>4</td>\n",
       "      <td>5</td>\n",
       "      <td>4</td>\n",
       "      <td>4</td>\n",
       "      <td>5</td>\n",
       "      <td>4</td>\n",
       "      <td>4</td>\n",
       "      <td>5</td>\n",
       "    </tr>\n",
       "    <tr>\n",
       "      <th>156</th>\n",
       "      <td>2</td>\n",
       "      <td>2</td>\n",
       "      <td>3</td>\n",
       "      <td>2</td>\n",
       "      <td>2</td>\n",
       "      <td>2</td>\n",
       "      <td>1</td>\n",
       "      <td>2</td>\n",
       "      <td>1</td>\n",
       "    </tr>\n",
       "    <tr>\n",
       "      <th>171</th>\n",
       "      <td>2</td>\n",
       "      <td>2</td>\n",
       "      <td>3</td>\n",
       "      <td>2</td>\n",
       "      <td>1</td>\n",
       "      <td>1</td>\n",
       "      <td>1</td>\n",
       "      <td>1</td>\n",
       "      <td>3</td>\n",
       "    </tr>\n",
       "    <tr>\n",
       "      <th>224</th>\n",
       "      <td>4</td>\n",
       "      <td>4</td>\n",
       "      <td>4</td>\n",
       "      <td>4</td>\n",
       "      <td>5</td>\n",
       "      <td>5</td>\n",
       "      <td>5</td>\n",
       "      <td>4</td>\n",
       "      <td>5</td>\n",
       "    </tr>\n",
       "    <tr>\n",
       "      <th>226</th>\n",
       "      <td>4</td>\n",
       "      <td>4</td>\n",
       "      <td>5</td>\n",
       "      <td>4</td>\n",
       "      <td>5</td>\n",
       "      <td>5</td>\n",
       "      <td>4</td>\n",
       "      <td>4</td>\n",
       "      <td>5</td>\n",
       "    </tr>\n",
       "    <tr>\n",
       "      <th>227</th>\n",
       "      <td>4</td>\n",
       "      <td>4</td>\n",
       "      <td>5</td>\n",
       "      <td>4</td>\n",
       "      <td>4</td>\n",
       "      <td>4</td>\n",
       "      <td>4</td>\n",
       "      <td>4</td>\n",
       "      <td>5</td>\n",
       "    </tr>\n",
       "    <tr>\n",
       "      <th>232</th>\n",
       "      <td>4</td>\n",
       "      <td>4</td>\n",
       "      <td>5</td>\n",
       "      <td>4</td>\n",
       "      <td>4</td>\n",
       "      <td>4</td>\n",
       "      <td>4</td>\n",
       "      <td>4</td>\n",
       "      <td>5</td>\n",
       "    </tr>\n",
       "    <tr>\n",
       "      <th>285</th>\n",
       "      <td>3</td>\n",
       "      <td>3</td>\n",
       "      <td>3</td>\n",
       "      <td>3</td>\n",
       "      <td>3</td>\n",
       "      <td>3</td>\n",
       "      <td>1</td>\n",
       "      <td>3</td>\n",
       "      <td>1</td>\n",
       "    </tr>\n",
       "    <tr>\n",
       "      <th>302</th>\n",
       "      <td>2</td>\n",
       "      <td>2</td>\n",
       "      <td>3</td>\n",
       "      <td>2</td>\n",
       "      <td>2</td>\n",
       "      <td>2</td>\n",
       "      <td>1</td>\n",
       "      <td>2</td>\n",
       "      <td>3</td>\n",
       "    </tr>\n",
       "    <tr>\n",
       "      <th>303</th>\n",
       "      <td>2</td>\n",
       "      <td>2</td>\n",
       "      <td>3</td>\n",
       "      <td>2</td>\n",
       "      <td>2</td>\n",
       "      <td>2</td>\n",
       "      <td>3</td>\n",
       "      <td>2</td>\n",
       "      <td>3</td>\n",
       "    </tr>\n",
       "  </tbody>\n",
       "</table>\n",
       "</div>"
      ],
      "text/plain": [
       "     logistic  SVM_linear  SVM_rbf  LDA  RF  RF_fs  knn  majority_vote  \\\n",
       "17          4           4        5    4   5      5    4              4   \n",
       "18          5           5        4    4   5      5    4              5   \n",
       "19          4           4        5    4   4      4    4              4   \n",
       "20          4           4        5    4   4      4    5              4   \n",
       "24          5           4        5    4   4      4    5              4   \n",
       "25          4           4        5    4   4      4    5              4   \n",
       "68          5           5        4    5   5      5    4              5   \n",
       "73          5           4        5    4   4      4    5              4   \n",
       "74          5           4        5    4   4      4    5              4   \n",
       "75          4           4        5    4   4      4    5              4   \n",
       "76          5           4        5    4   4      5    4              4   \n",
       "156         2           2        3    2   2      2    1              2   \n",
       "171         2           2        3    2   1      1    1              1   \n",
       "224         4           4        4    4   5      5    5              4   \n",
       "226         4           4        5    4   5      5    4              4   \n",
       "227         4           4        5    4   4      4    4              4   \n",
       "232         4           4        5    4   4      4    4              4   \n",
       "285         3           3        3    3   3      3    1              3   \n",
       "302         2           2        3    2   2      2    1              2   \n",
       "303         2           2        3    2   2      2    3              2   \n",
       "\n",
       "     last_pred  \n",
       "17           5  \n",
       "18           4  \n",
       "19           5  \n",
       "20           5  \n",
       "24           5  \n",
       "25           5  \n",
       "68           4  \n",
       "73           5  \n",
       "74           5  \n",
       "75           5  \n",
       "76           5  \n",
       "156          1  \n",
       "171          3  \n",
       "224          5  \n",
       "226          5  \n",
       "227          5  \n",
       "232          5  \n",
       "285          1  \n",
       "302          3  \n",
       "303          3  "
      ]
     },
     "execution_count": 84,
     "metadata": {},
     "output_type": "execute_result"
    }
   ],
   "source": [
    "mask = (ensemble_m['majority_vote'] != ensemble_m['last_pred'])\n",
    "ensemble_m[mask].head(20)"
   ]
  },
  {
   "cell_type": "code",
   "execution_count": 86,
   "id": "a2ed8f0d",
   "metadata": {
    "ExecuteTime": {
     "end_time": "2023-04-14T18:48:14.702879Z",
     "start_time": "2023-04-14T18:48:14.694618Z"
    }
   },
   "outputs": [],
   "source": [
    "# file_path = 'multiclass_h0606w.txt'\n",
    "\n",
    "# # extract the column and save it to a text file\n",
    "# ensemble_m['majority_vote'].to_csv(file_path, index=False, header=False)"
   ]
  },
  {
   "cell_type": "markdown",
   "id": "bb36b711",
   "metadata": {},
   "source": [
    "After chosen models: (last leaderboard submission not final algorithm)"
   ]
  },
  {
   "cell_type": "code",
   "execution_count": 209,
   "id": "66c3baa4",
   "metadata": {
    "ExecuteTime": {
     "end_time": "2023-04-14T21:28:25.312331Z",
     "start_time": "2023-04-14T21:28:24.429928Z"
    }
   },
   "outputs": [
    {
     "name": "stderr",
     "output_type": "stream",
     "text": [
      "<ipython-input-209-d6e6e0daa354>:2: SettingWithCopyWarning: \n",
      "A value is trying to be set on a copy of a slice from a DataFrame.\n",
      "Try using .loc[row_indexer,col_indexer] = value instead\n",
      "\n",
      "See the caveats in the documentation: https://pandas.pydata.org/pandas-docs/stable/user_guide/indexing.html#returning-a-view-versus-a-copy\n",
      "  chosen1['majority_vote'] = chosen1.mode(axis=1)[0]\n"
     ]
    }
   ],
   "source": [
    "chosen1 = ensemble_m[['SVM_rbf', 'xgboost', 'RF_fs', 'ridge', 'knn', 'LDA']]\n",
    "chosen1['majority_vote'] = chosen1.mode(axis=1)[0]"
   ]
  },
  {
   "cell_type": "code",
   "execution_count": 211,
   "id": "6dc9831f",
   "metadata": {
    "ExecuteTime": {
     "end_time": "2023-04-14T21:30:00.218922Z",
     "start_time": "2023-04-14T21:30:00.212077Z"
    }
   },
   "outputs": [
    {
     "name": "stderr",
     "output_type": "stream",
     "text": [
      "<ipython-input-211-c42792e8b0d3>:1: SettingWithCopyWarning: \n",
      "A value is trying to be set on a copy of a slice from a DataFrame.\n",
      "Try using .loc[row_indexer,col_indexer] = value instead\n",
      "\n",
      "See the caveats in the documentation: https://pandas.pydata.org/pandas-docs/stable/user_guide/indexing.html#returning-a-view-versus-a-copy\n",
      "  chosen1['majority_vote'] = chosen1['majority_vote'].astype(int)\n"
     ]
    }
   ],
   "source": [
    "chosen1['majority_vote'] = chosen1['majority_vote'].astype(int)"
   ]
  },
  {
   "cell_type": "code",
   "execution_count": 213,
   "id": "60a2a9ca",
   "metadata": {
    "ExecuteTime": {
     "end_time": "2023-04-14T21:31:44.803929Z",
     "start_time": "2023-04-14T21:31:44.782258Z"
    },
    "scrolled": true
   },
   "outputs": [
    {
     "name": "stderr",
     "output_type": "stream",
     "text": [
      "<ipython-input-213-618a612f1fb0>:2: SettingWithCopyWarning: \n",
      "A value is trying to be set on a copy of a slice from a DataFrame.\n",
      "Try using .loc[row_indexer,col_indexer] = value instead\n",
      "\n",
      "See the caveats in the documentation: https://pandas.pydata.org/pandas-docs/stable/user_guide/indexing.html#returning-a-view-versus-a-copy\n",
      "  chosen1['last_pred'] = last_pred[0]\n"
     ]
    },
    {
     "data": {
      "text/html": [
       "<div>\n",
       "<style scoped>\n",
       "    .dataframe tbody tr th:only-of-type {\n",
       "        vertical-align: middle;\n",
       "    }\n",
       "\n",
       "    .dataframe tbody tr th {\n",
       "        vertical-align: top;\n",
       "    }\n",
       "\n",
       "    .dataframe thead th {\n",
       "        text-align: right;\n",
       "    }\n",
       "</style>\n",
       "<table border=\"1\" class=\"dataframe\">\n",
       "  <thead>\n",
       "    <tr style=\"text-align: right;\">\n",
       "      <th></th>\n",
       "      <th>SVM_rbf</th>\n",
       "      <th>xgboost</th>\n",
       "      <th>RF_fs</th>\n",
       "      <th>ridge</th>\n",
       "      <th>knn</th>\n",
       "      <th>LDA</th>\n",
       "      <th>majority_vote</th>\n",
       "      <th>last_pred</th>\n",
       "    </tr>\n",
       "  </thead>\n",
       "  <tbody>\n",
       "    <tr>\n",
       "      <th>18</th>\n",
       "      <td>4</td>\n",
       "      <td>5</td>\n",
       "      <td>5</td>\n",
       "      <td>5</td>\n",
       "      <td>4</td>\n",
       "      <td>4</td>\n",
       "      <td>4</td>\n",
       "      <td>5</td>\n",
       "    </tr>\n",
       "    <tr>\n",
       "      <th>24</th>\n",
       "      <td>5</td>\n",
       "      <td>5</td>\n",
       "      <td>4</td>\n",
       "      <td>5</td>\n",
       "      <td>5</td>\n",
       "      <td>4</td>\n",
       "      <td>5</td>\n",
       "      <td>4</td>\n",
       "    </tr>\n",
       "    <tr>\n",
       "      <th>171</th>\n",
       "      <td>3</td>\n",
       "      <td>2</td>\n",
       "      <td>1</td>\n",
       "      <td>2</td>\n",
       "      <td>1</td>\n",
       "      <td>2</td>\n",
       "      <td>2</td>\n",
       "      <td>1</td>\n",
       "    </tr>\n",
       "    <tr>\n",
       "      <th>228</th>\n",
       "      <td>5</td>\n",
       "      <td>5</td>\n",
       "      <td>5</td>\n",
       "      <td>4</td>\n",
       "      <td>4</td>\n",
       "      <td>4</td>\n",
       "      <td>4</td>\n",
       "      <td>5</td>\n",
       "    </tr>\n",
       "    <tr>\n",
       "      <th>229</th>\n",
       "      <td>5</td>\n",
       "      <td>5</td>\n",
       "      <td>5</td>\n",
       "      <td>4</td>\n",
       "      <td>4</td>\n",
       "      <td>4</td>\n",
       "      <td>4</td>\n",
       "      <td>5</td>\n",
       "    </tr>\n",
       "    <tr>\n",
       "      <th>561</th>\n",
       "      <td>5</td>\n",
       "      <td>4</td>\n",
       "      <td>5</td>\n",
       "      <td>4</td>\n",
       "      <td>4</td>\n",
       "      <td>5</td>\n",
       "      <td>4</td>\n",
       "      <td>5</td>\n",
       "    </tr>\n",
       "    <tr>\n",
       "      <th>661</th>\n",
       "      <td>4</td>\n",
       "      <td>5</td>\n",
       "      <td>5</td>\n",
       "      <td>5</td>\n",
       "      <td>4</td>\n",
       "      <td>4</td>\n",
       "      <td>4</td>\n",
       "      <td>5</td>\n",
       "    </tr>\n",
       "    <tr>\n",
       "      <th>687</th>\n",
       "      <td>4</td>\n",
       "      <td>5</td>\n",
       "      <td>5</td>\n",
       "      <td>5</td>\n",
       "      <td>4</td>\n",
       "      <td>4</td>\n",
       "      <td>4</td>\n",
       "      <td>5</td>\n",
       "    </tr>\n",
       "    <tr>\n",
       "      <th>693</th>\n",
       "      <td>4</td>\n",
       "      <td>5</td>\n",
       "      <td>5</td>\n",
       "      <td>5</td>\n",
       "      <td>4</td>\n",
       "      <td>4</td>\n",
       "      <td>4</td>\n",
       "      <td>5</td>\n",
       "    </tr>\n",
       "    <tr>\n",
       "      <th>809</th>\n",
       "      <td>1</td>\n",
       "      <td>1</td>\n",
       "      <td>1</td>\n",
       "      <td>2</td>\n",
       "      <td>2</td>\n",
       "      <td>2</td>\n",
       "      <td>1</td>\n",
       "      <td>2</td>\n",
       "    </tr>\n",
       "    <tr>\n",
       "      <th>827</th>\n",
       "      <td>4</td>\n",
       "      <td>5</td>\n",
       "      <td>5</td>\n",
       "      <td>5</td>\n",
       "      <td>5</td>\n",
       "      <td>4</td>\n",
       "      <td>5</td>\n",
       "      <td>4</td>\n",
       "    </tr>\n",
       "    <tr>\n",
       "      <th>875</th>\n",
       "      <td>4</td>\n",
       "      <td>5</td>\n",
       "      <td>4</td>\n",
       "      <td>5</td>\n",
       "      <td>5</td>\n",
       "      <td>4</td>\n",
       "      <td>4</td>\n",
       "      <td>5</td>\n",
       "    </tr>\n",
       "    <tr>\n",
       "      <th>1126</th>\n",
       "      <td>4</td>\n",
       "      <td>4</td>\n",
       "      <td>4</td>\n",
       "      <td>5</td>\n",
       "      <td>5</td>\n",
       "      <td>5</td>\n",
       "      <td>4</td>\n",
       "      <td>5</td>\n",
       "    </tr>\n",
       "    <tr>\n",
       "      <th>1127</th>\n",
       "      <td>4</td>\n",
       "      <td>4</td>\n",
       "      <td>4</td>\n",
       "      <td>5</td>\n",
       "      <td>4</td>\n",
       "      <td>5</td>\n",
       "      <td>4</td>\n",
       "      <td>5</td>\n",
       "    </tr>\n",
       "    <tr>\n",
       "      <th>1129</th>\n",
       "      <td>5</td>\n",
       "      <td>4</td>\n",
       "      <td>4</td>\n",
       "      <td>5</td>\n",
       "      <td>4</td>\n",
       "      <td>5</td>\n",
       "      <td>4</td>\n",
       "      <td>5</td>\n",
       "    </tr>\n",
       "    <tr>\n",
       "      <th>1131</th>\n",
       "      <td>5</td>\n",
       "      <td>4</td>\n",
       "      <td>5</td>\n",
       "      <td>5</td>\n",
       "      <td>4</td>\n",
       "      <td>4</td>\n",
       "      <td>4</td>\n",
       "      <td>5</td>\n",
       "    </tr>\n",
       "    <tr>\n",
       "      <th>1152</th>\n",
       "      <td>5</td>\n",
       "      <td>4</td>\n",
       "      <td>4</td>\n",
       "      <td>5</td>\n",
       "      <td>4</td>\n",
       "      <td>5</td>\n",
       "      <td>4</td>\n",
       "      <td>5</td>\n",
       "    </tr>\n",
       "    <tr>\n",
       "      <th>1160</th>\n",
       "      <td>5</td>\n",
       "      <td>4</td>\n",
       "      <td>4</td>\n",
       "      <td>5</td>\n",
       "      <td>4</td>\n",
       "      <td>5</td>\n",
       "      <td>4</td>\n",
       "      <td>5</td>\n",
       "    </tr>\n",
       "    <tr>\n",
       "      <th>1174</th>\n",
       "      <td>4</td>\n",
       "      <td>2</td>\n",
       "      <td>5</td>\n",
       "      <td>2</td>\n",
       "      <td>2</td>\n",
       "      <td>4</td>\n",
       "      <td>2</td>\n",
       "      <td>4</td>\n",
       "    </tr>\n",
       "    <tr>\n",
       "      <th>1187</th>\n",
       "      <td>4</td>\n",
       "      <td>5</td>\n",
       "      <td>5</td>\n",
       "      <td>5</td>\n",
       "      <td>4</td>\n",
       "      <td>5</td>\n",
       "      <td>5</td>\n",
       "      <td>4</td>\n",
       "    </tr>\n",
       "    <tr>\n",
       "      <th>1218</th>\n",
       "      <td>3</td>\n",
       "      <td>1</td>\n",
       "      <td>1</td>\n",
       "      <td>1</td>\n",
       "      <td>3</td>\n",
       "      <td>1</td>\n",
       "      <td>1</td>\n",
       "      <td>3</td>\n",
       "    </tr>\n",
       "    <tr>\n",
       "      <th>1257</th>\n",
       "      <td>2</td>\n",
       "      <td>1</td>\n",
       "      <td>1</td>\n",
       "      <td>1</td>\n",
       "      <td>2</td>\n",
       "      <td>2</td>\n",
       "      <td>1</td>\n",
       "      <td>2</td>\n",
       "    </tr>\n",
       "    <tr>\n",
       "      <th>1258</th>\n",
       "      <td>1</td>\n",
       "      <td>2</td>\n",
       "      <td>2</td>\n",
       "      <td>1</td>\n",
       "      <td>3</td>\n",
       "      <td>2</td>\n",
       "      <td>2</td>\n",
       "      <td>1</td>\n",
       "    </tr>\n",
       "    <tr>\n",
       "      <th>1269</th>\n",
       "      <td>2</td>\n",
       "      <td>1</td>\n",
       "      <td>2</td>\n",
       "      <td>1</td>\n",
       "      <td>1</td>\n",
       "      <td>1</td>\n",
       "      <td>1</td>\n",
       "      <td>2</td>\n",
       "    </tr>\n",
       "    <tr>\n",
       "      <th>1271</th>\n",
       "      <td>2</td>\n",
       "      <td>2</td>\n",
       "      <td>1</td>\n",
       "      <td>1</td>\n",
       "      <td>2</td>\n",
       "      <td>2</td>\n",
       "      <td>2</td>\n",
       "      <td>1</td>\n",
       "    </tr>\n",
       "    <tr>\n",
       "      <th>1334</th>\n",
       "      <td>5</td>\n",
       "      <td>4</td>\n",
       "      <td>4</td>\n",
       "      <td>5</td>\n",
       "      <td>4</td>\n",
       "      <td>5</td>\n",
       "      <td>4</td>\n",
       "      <td>5</td>\n",
       "    </tr>\n",
       "    <tr>\n",
       "      <th>1432</th>\n",
       "      <td>1</td>\n",
       "      <td>3</td>\n",
       "      <td>1</td>\n",
       "      <td>1</td>\n",
       "      <td>3</td>\n",
       "      <td>3</td>\n",
       "      <td>1</td>\n",
       "      <td>3</td>\n",
       "    </tr>\n",
       "    <tr>\n",
       "      <th>1469</th>\n",
       "      <td>2</td>\n",
       "      <td>7</td>\n",
       "      <td>7</td>\n",
       "      <td>2</td>\n",
       "      <td>1</td>\n",
       "      <td>7</td>\n",
       "      <td>7</td>\n",
       "      <td>2</td>\n",
       "    </tr>\n",
       "    <tr>\n",
       "      <th>1470</th>\n",
       "      <td>7</td>\n",
       "      <td>7</td>\n",
       "      <td>4</td>\n",
       "      <td>7</td>\n",
       "      <td>4</td>\n",
       "      <td>5</td>\n",
       "      <td>7</td>\n",
       "      <td>4</td>\n",
       "    </tr>\n",
       "    <tr>\n",
       "      <th>1524</th>\n",
       "      <td>5</td>\n",
       "      <td>5</td>\n",
       "      <td>4</td>\n",
       "      <td>5</td>\n",
       "      <td>4</td>\n",
       "      <td>5</td>\n",
       "      <td>5</td>\n",
       "      <td>4</td>\n",
       "    </tr>\n",
       "    <tr>\n",
       "      <th>1569</th>\n",
       "      <td>3</td>\n",
       "      <td>1</td>\n",
       "      <td>1</td>\n",
       "      <td>1</td>\n",
       "      <td>3</td>\n",
       "      <td>1</td>\n",
       "      <td>1</td>\n",
       "      <td>3</td>\n",
       "    </tr>\n",
       "    <tr>\n",
       "      <th>1613</th>\n",
       "      <td>1</td>\n",
       "      <td>2</td>\n",
       "      <td>1</td>\n",
       "      <td>2</td>\n",
       "      <td>1</td>\n",
       "      <td>2</td>\n",
       "      <td>1</td>\n",
       "      <td>2</td>\n",
       "    </tr>\n",
       "    <tr>\n",
       "      <th>1768</th>\n",
       "      <td>1</td>\n",
       "      <td>3</td>\n",
       "      <td>1</td>\n",
       "      <td>3</td>\n",
       "      <td>1</td>\n",
       "      <td>3</td>\n",
       "      <td>1</td>\n",
       "      <td>3</td>\n",
       "    </tr>\n",
       "    <tr>\n",
       "      <th>2142</th>\n",
       "      <td>1</td>\n",
       "      <td>2</td>\n",
       "      <td>2</td>\n",
       "      <td>3</td>\n",
       "      <td>1</td>\n",
       "      <td>3</td>\n",
       "      <td>1</td>\n",
       "      <td>3</td>\n",
       "    </tr>\n",
       "    <tr>\n",
       "      <th>2145</th>\n",
       "      <td>1</td>\n",
       "      <td>1</td>\n",
       "      <td>3</td>\n",
       "      <td>3</td>\n",
       "      <td>1</td>\n",
       "      <td>3</td>\n",
       "      <td>1</td>\n",
       "      <td>3</td>\n",
       "    </tr>\n",
       "    <tr>\n",
       "      <th>2158</th>\n",
       "      <td>2</td>\n",
       "      <td>2</td>\n",
       "      <td>3</td>\n",
       "      <td>3</td>\n",
       "      <td>2</td>\n",
       "      <td>3</td>\n",
       "      <td>2</td>\n",
       "      <td>3</td>\n",
       "    </tr>\n",
       "    <tr>\n",
       "      <th>2253</th>\n",
       "      <td>4</td>\n",
       "      <td>4</td>\n",
       "      <td>5</td>\n",
       "      <td>5</td>\n",
       "      <td>5</td>\n",
       "      <td>4</td>\n",
       "      <td>4</td>\n",
       "      <td>5</td>\n",
       "    </tr>\n",
       "    <tr>\n",
       "      <th>2313</th>\n",
       "      <td>3</td>\n",
       "      <td>2</td>\n",
       "      <td>2</td>\n",
       "      <td>3</td>\n",
       "      <td>2</td>\n",
       "      <td>3</td>\n",
       "      <td>2</td>\n",
       "      <td>3</td>\n",
       "    </tr>\n",
       "    <tr>\n",
       "      <th>2316</th>\n",
       "      <td>2</td>\n",
       "      <td>3</td>\n",
       "      <td>2</td>\n",
       "      <td>3</td>\n",
       "      <td>1</td>\n",
       "      <td>3</td>\n",
       "      <td>3</td>\n",
       "      <td>2</td>\n",
       "    </tr>\n",
       "    <tr>\n",
       "      <th>2317</th>\n",
       "      <td>1</td>\n",
       "      <td>2</td>\n",
       "      <td>2</td>\n",
       "      <td>3</td>\n",
       "      <td>1</td>\n",
       "      <td>3</td>\n",
       "      <td>1</td>\n",
       "      <td>3</td>\n",
       "    </tr>\n",
       "    <tr>\n",
       "      <th>2588</th>\n",
       "      <td>5</td>\n",
       "      <td>4</td>\n",
       "      <td>4</td>\n",
       "      <td>5</td>\n",
       "      <td>5</td>\n",
       "      <td>4</td>\n",
       "      <td>4</td>\n",
       "      <td>5</td>\n",
       "    </tr>\n",
       "    <tr>\n",
       "      <th>2589</th>\n",
       "      <td>5</td>\n",
       "      <td>4</td>\n",
       "      <td>4</td>\n",
       "      <td>5</td>\n",
       "      <td>4</td>\n",
       "      <td>5</td>\n",
       "      <td>4</td>\n",
       "      <td>5</td>\n",
       "    </tr>\n",
       "    <tr>\n",
       "      <th>2693</th>\n",
       "      <td>1</td>\n",
       "      <td>1</td>\n",
       "      <td>1</td>\n",
       "      <td>1</td>\n",
       "      <td>2</td>\n",
       "      <td>2</td>\n",
       "      <td>1</td>\n",
       "      <td>2</td>\n",
       "    </tr>\n",
       "    <tr>\n",
       "      <th>2694</th>\n",
       "      <td>1</td>\n",
       "      <td>2</td>\n",
       "      <td>3</td>\n",
       "      <td>1</td>\n",
       "      <td>2</td>\n",
       "      <td>2</td>\n",
       "      <td>2</td>\n",
       "      <td>1</td>\n",
       "    </tr>\n",
       "    <tr>\n",
       "      <th>2720</th>\n",
       "      <td>3</td>\n",
       "      <td>3</td>\n",
       "      <td>3</td>\n",
       "      <td>2</td>\n",
       "      <td>1</td>\n",
       "      <td>2</td>\n",
       "      <td>3</td>\n",
       "      <td>2</td>\n",
       "    </tr>\n",
       "  </tbody>\n",
       "</table>\n",
       "</div>"
      ],
      "text/plain": [
       "      SVM_rbf  xgboost  RF_fs  ridge  knn  LDA  majority_vote  last_pred\n",
       "18          4        5      5      5    4    4              4          5\n",
       "24          5        5      4      5    5    4              5          4\n",
       "171         3        2      1      2    1    2              2          1\n",
       "228         5        5      5      4    4    4              4          5\n",
       "229         5        5      5      4    4    4              4          5\n",
       "561         5        4      5      4    4    5              4          5\n",
       "661         4        5      5      5    4    4              4          5\n",
       "687         4        5      5      5    4    4              4          5\n",
       "693         4        5      5      5    4    4              4          5\n",
       "809         1        1      1      2    2    2              1          2\n",
       "827         4        5      5      5    5    4              5          4\n",
       "875         4        5      4      5    5    4              4          5\n",
       "1126        4        4      4      5    5    5              4          5\n",
       "1127        4        4      4      5    4    5              4          5\n",
       "1129        5        4      4      5    4    5              4          5\n",
       "1131        5        4      5      5    4    4              4          5\n",
       "1152        5        4      4      5    4    5              4          5\n",
       "1160        5        4      4      5    4    5              4          5\n",
       "1174        4        2      5      2    2    4              2          4\n",
       "1187        4        5      5      5    4    5              5          4\n",
       "1218        3        1      1      1    3    1              1          3\n",
       "1257        2        1      1      1    2    2              1          2\n",
       "1258        1        2      2      1    3    2              2          1\n",
       "1269        2        1      2      1    1    1              1          2\n",
       "1271        2        2      1      1    2    2              2          1\n",
       "1334        5        4      4      5    4    5              4          5\n",
       "1432        1        3      1      1    3    3              1          3\n",
       "1469        2        7      7      2    1    7              7          2\n",
       "1470        7        7      4      7    4    5              7          4\n",
       "1524        5        5      4      5    4    5              5          4\n",
       "1569        3        1      1      1    3    1              1          3\n",
       "1613        1        2      1      2    1    2              1          2\n",
       "1768        1        3      1      3    1    3              1          3\n",
       "2142        1        2      2      3    1    3              1          3\n",
       "2145        1        1      3      3    1    3              1          3\n",
       "2158        2        2      3      3    2    3              2          3\n",
       "2253        4        4      5      5    5    4              4          5\n",
       "2313        3        2      2      3    2    3              2          3\n",
       "2316        2        3      2      3    1    3              3          2\n",
       "2317        1        2      2      3    1    3              1          3\n",
       "2588        5        4      4      5    5    4              4          5\n",
       "2589        5        4      4      5    4    5              4          5\n",
       "2693        1        1      1      1    2    2              1          2\n",
       "2694        1        2      3      1    2    2              2          1\n",
       "2720        3        3      3      2    1    2              3          2"
      ]
     },
     "execution_count": 213,
     "metadata": {},
     "output_type": "execute_result"
    }
   ],
   "source": [
    "last_pred = pd.read_csv('multiclass_h0606w_3.txt', header=None)\n",
    "chosen1['last_pred'] = last_pred[0]\n",
    "mask = (chosen1['majority_vote'] != chosen1['last_pred'])\n",
    "chosen1[mask]"
   ]
  },
  {
   "cell_type": "code",
   "execution_count": 214,
   "id": "5aaf9ca8",
   "metadata": {
    "ExecuteTime": {
     "end_time": "2023-04-14T21:33:19.183875Z",
     "start_time": "2023-04-14T21:33:19.163755Z"
    }
   },
   "outputs": [],
   "source": [
    "# file_path = 'multiclass_h0606w.txt'\n",
    "\n",
    "# # extract the column and save it to a text file\n",
    "# chosen1['majority_vote'].to_csv(file_path, index=False, header=False)"
   ]
  },
  {
   "cell_type": "markdown",
   "id": "e598e6de",
   "metadata": {},
   "source": [
    "### Ensemble attempt 2 on train test split data"
   ]
  },
  {
   "cell_type": "code",
   "execution_count": 128,
   "id": "962fa16b",
   "metadata": {
    "ExecuteTime": {
     "end_time": "2023-04-14T20:55:30.447225Z",
     "start_time": "2023-04-14T20:55:29.797513Z"
    }
   },
   "outputs": [],
   "source": [
    "# create DataFrame with one column for each model's predictions\n",
    "ensemble_m2 = pd.DataFrame({'logistic': log_pred_test, 'ridge': log2_pred_test, 'lasso': lasso_pred_test, 'SVM_linear':svm1_pred_test , 'SVM_rbf':svm2_pred_test, \n",
    "                          'LDA':lda_pred_test, 'RF':rf1_pred_test, 'RF_fs':rf_reduced_pred_test, 'knn':knn_pred_test, 'xgboost': xgb_pred_test})\n",
    "\n",
    "# compute majority vote for each row (i.e., sample)\n",
    "ensemble_m2['majority_vote'] = ensemble_m2.mode(axis=1)[0]"
   ]
  },
  {
   "cell_type": "code",
   "execution_count": 138,
   "id": "017b301c",
   "metadata": {
    "ExecuteTime": {
     "end_time": "2023-04-14T21:00:54.929272Z",
     "start_time": "2023-04-14T21:00:54.915357Z"
    }
   },
   "outputs": [
    {
     "data": {
      "text/html": [
       "<div>\n",
       "<style scoped>\n",
       "    .dataframe tbody tr th:only-of-type {\n",
       "        vertical-align: middle;\n",
       "    }\n",
       "\n",
       "    .dataframe tbody tr th {\n",
       "        vertical-align: top;\n",
       "    }\n",
       "\n",
       "    .dataframe thead th {\n",
       "        text-align: right;\n",
       "    }\n",
       "</style>\n",
       "<table border=\"1\" class=\"dataframe\">\n",
       "  <thead>\n",
       "    <tr style=\"text-align: right;\">\n",
       "      <th></th>\n",
       "      <th>logistic</th>\n",
       "      <th>ridge</th>\n",
       "      <th>lasso</th>\n",
       "      <th>SVM_linear</th>\n",
       "      <th>SVM_rbf</th>\n",
       "      <th>LDA</th>\n",
       "      <th>RF</th>\n",
       "      <th>RF_fs</th>\n",
       "      <th>knn</th>\n",
       "      <th>xgboost</th>\n",
       "      <th>majority_vote</th>\n",
       "      <th>true</th>\n",
       "    </tr>\n",
       "  </thead>\n",
       "  <tbody>\n",
       "    <tr>\n",
       "      <th>0</th>\n",
       "      <td>5</td>\n",
       "      <td>5</td>\n",
       "      <td>5</td>\n",
       "      <td>5</td>\n",
       "      <td>5</td>\n",
       "      <td>5</td>\n",
       "      <td>5</td>\n",
       "      <td>5</td>\n",
       "      <td>5</td>\n",
       "      <td>5</td>\n",
       "      <td>5</td>\n",
       "      <td>5</td>\n",
       "    </tr>\n",
       "    <tr>\n",
       "      <th>1</th>\n",
       "      <td>4</td>\n",
       "      <td>4</td>\n",
       "      <td>4</td>\n",
       "      <td>4</td>\n",
       "      <td>4</td>\n",
       "      <td>4</td>\n",
       "      <td>4</td>\n",
       "      <td>4</td>\n",
       "      <td>4</td>\n",
       "      <td>4</td>\n",
       "      <td>4</td>\n",
       "      <td>4</td>\n",
       "    </tr>\n",
       "    <tr>\n",
       "      <th>2</th>\n",
       "      <td>5</td>\n",
       "      <td>5</td>\n",
       "      <td>5</td>\n",
       "      <td>5</td>\n",
       "      <td>5</td>\n",
       "      <td>5</td>\n",
       "      <td>5</td>\n",
       "      <td>5</td>\n",
       "      <td>5</td>\n",
       "      <td>5</td>\n",
       "      <td>5</td>\n",
       "      <td>5</td>\n",
       "    </tr>\n",
       "    <tr>\n",
       "      <th>3</th>\n",
       "      <td>4</td>\n",
       "      <td>4</td>\n",
       "      <td>4</td>\n",
       "      <td>4</td>\n",
       "      <td>4</td>\n",
       "      <td>4</td>\n",
       "      <td>5</td>\n",
       "      <td>5</td>\n",
       "      <td>4</td>\n",
       "      <td>4</td>\n",
       "      <td>4</td>\n",
       "      <td>4</td>\n",
       "    </tr>\n",
       "    <tr>\n",
       "      <th>4</th>\n",
       "      <td>3</td>\n",
       "      <td>3</td>\n",
       "      <td>3</td>\n",
       "      <td>3</td>\n",
       "      <td>3</td>\n",
       "      <td>3</td>\n",
       "      <td>3</td>\n",
       "      <td>3</td>\n",
       "      <td>3</td>\n",
       "      <td>3</td>\n",
       "      <td>3</td>\n",
       "      <td>3</td>\n",
       "    </tr>\n",
       "    <tr>\n",
       "      <th>...</th>\n",
       "      <td>...</td>\n",
       "      <td>...</td>\n",
       "      <td>...</td>\n",
       "      <td>...</td>\n",
       "      <td>...</td>\n",
       "      <td>...</td>\n",
       "      <td>...</td>\n",
       "      <td>...</td>\n",
       "      <td>...</td>\n",
       "      <td>...</td>\n",
       "      <td>...</td>\n",
       "      <td>...</td>\n",
       "    </tr>\n",
       "    <tr>\n",
       "      <th>2326</th>\n",
       "      <td>6</td>\n",
       "      <td>6</td>\n",
       "      <td>6</td>\n",
       "      <td>6</td>\n",
       "      <td>6</td>\n",
       "      <td>6</td>\n",
       "      <td>6</td>\n",
       "      <td>6</td>\n",
       "      <td>6</td>\n",
       "      <td>6</td>\n",
       "      <td>6</td>\n",
       "      <td>6</td>\n",
       "    </tr>\n",
       "    <tr>\n",
       "      <th>2327</th>\n",
       "      <td>4</td>\n",
       "      <td>4</td>\n",
       "      <td>4</td>\n",
       "      <td>4</td>\n",
       "      <td>4</td>\n",
       "      <td>4</td>\n",
       "      <td>4</td>\n",
       "      <td>4</td>\n",
       "      <td>4</td>\n",
       "      <td>4</td>\n",
       "      <td>4</td>\n",
       "      <td>4</td>\n",
       "    </tr>\n",
       "    <tr>\n",
       "      <th>2328</th>\n",
       "      <td>6</td>\n",
       "      <td>6</td>\n",
       "      <td>6</td>\n",
       "      <td>6</td>\n",
       "      <td>6</td>\n",
       "      <td>6</td>\n",
       "      <td>6</td>\n",
       "      <td>6</td>\n",
       "      <td>6</td>\n",
       "      <td>6</td>\n",
       "      <td>6</td>\n",
       "      <td>6</td>\n",
       "    </tr>\n",
       "    <tr>\n",
       "      <th>2329</th>\n",
       "      <td>6</td>\n",
       "      <td>6</td>\n",
       "      <td>6</td>\n",
       "      <td>6</td>\n",
       "      <td>6</td>\n",
       "      <td>6</td>\n",
       "      <td>6</td>\n",
       "      <td>6</td>\n",
       "      <td>6</td>\n",
       "      <td>6</td>\n",
       "      <td>6</td>\n",
       "      <td>6</td>\n",
       "    </tr>\n",
       "    <tr>\n",
       "      <th>2330</th>\n",
       "      <td>1</td>\n",
       "      <td>1</td>\n",
       "      <td>1</td>\n",
       "      <td>1</td>\n",
       "      <td>1</td>\n",
       "      <td>1</td>\n",
       "      <td>1</td>\n",
       "      <td>1</td>\n",
       "      <td>1</td>\n",
       "      <td>1</td>\n",
       "      <td>1</td>\n",
       "      <td>1</td>\n",
       "    </tr>\n",
       "  </tbody>\n",
       "</table>\n",
       "<p>2331 rows × 12 columns</p>\n",
       "</div>"
      ],
      "text/plain": [
       "      logistic  ridge  lasso  SVM_linear  SVM_rbf  LDA  RF  RF_fs  knn  \\\n",
       "0            5      5      5           5        5    5   5      5    5   \n",
       "1            4      4      4           4        4    4   4      4    4   \n",
       "2            5      5      5           5        5    5   5      5    5   \n",
       "3            4      4      4           4        4    4   5      5    4   \n",
       "4            3      3      3           3        3    3   3      3    3   \n",
       "...        ...    ...    ...         ...      ...  ...  ..    ...  ...   \n",
       "2326         6      6      6           6        6    6   6      6    6   \n",
       "2327         4      4      4           4        4    4   4      4    4   \n",
       "2328         6      6      6           6        6    6   6      6    6   \n",
       "2329         6      6      6           6        6    6   6      6    6   \n",
       "2330         1      1      1           1        1    1   1      1    1   \n",
       "\n",
       "      xgboost  majority_vote  true  \n",
       "0           5              5     5  \n",
       "1           4              4     4  \n",
       "2           5              5     5  \n",
       "3           4              4     4  \n",
       "4           3              3     3  \n",
       "...       ...            ...   ...  \n",
       "2326        6              6     6  \n",
       "2327        4              4     4  \n",
       "2328        6              6     6  \n",
       "2329        6              6     6  \n",
       "2330        1              1     1  \n",
       "\n",
       "[2331 rows x 12 columns]"
      ]
     },
     "execution_count": 138,
     "metadata": {},
     "output_type": "execute_result"
    }
   ],
   "source": [
    "ensemble_m2['majority_vote'] = ensemble_m2['majority_vote'].astype(int)\n",
    "ensemble_m2['true'] = y_test_m.reset_index(drop=True)\n",
    "ensemble_m2"
   ]
  },
  {
   "cell_type": "code",
   "execution_count": 142,
   "id": "b8f6769a",
   "metadata": {
    "ExecuteTime": {
     "end_time": "2023-04-14T21:02:26.105049Z",
     "start_time": "2023-04-14T21:02:26.089508Z"
    }
   },
   "outputs": [
    {
     "name": "stdout",
     "output_type": "stream",
     "text": [
      "logistic accuracy: 0.980\n",
      "ridge accuracy: 0.982\n",
      "lasso accuracy: 0.984\n",
      "SVM_linear accuracy: 0.984\n",
      "SVM_rbf accuracy: 0.992\n",
      "LDA accuracy: 0.982\n",
      "RF accuracy: 0.976\n",
      "RF_fs accuracy: 0.978\n",
      "knn accuracy: 0.955\n",
      "xgboost accuracy: 0.990\n",
      "majority_vote accuracy: 0.992\n"
     ]
    }
   ],
   "source": [
    "for col in ensemble_m2.columns[:-1]:  \n",
    "    # calculate accuracy\n",
    "    correct_predictions = ensemble_m2[ensemble_m2[col] == ensemble_m2['true']].shape[0]\n",
    "    total_predictions = ensemble_m2.shape[0]\n",
    "    accuracy = correct_predictions / total_predictions\n",
    "    \n",
    "    print(f'{col} accuracy: {accuracy:.3f}')"
   ]
  },
  {
   "cell_type": "markdown",
   "id": "fcee0fec",
   "metadata": {},
   "source": [
    "top 5: SVM_rbf, xgboost, SVM_linear, lasso, LDA "
   ]
  },
  {
   "cell_type": "code",
   "execution_count": 234,
   "id": "7c904fcf",
   "metadata": {
    "ExecuteTime": {
     "end_time": "2023-04-15T04:04:57.050555Z",
     "start_time": "2023-04-15T04:04:56.605734Z"
    }
   },
   "outputs": [
    {
     "name": "stderr",
     "output_type": "stream",
     "text": [
      "<ipython-input-234-e229e5157f21>:2: SettingWithCopyWarning: \n",
      "A value is trying to be set on a copy of a slice from a DataFrame.\n",
      "Try using .loc[row_indexer,col_indexer] = value instead\n",
      "\n",
      "See the caveats in the documentation: https://pandas.pydata.org/pandas-docs/stable/user_guide/indexing.html#returning-a-view-versus-a-copy\n",
      "  chosen['majority_vote'] = chosen.mode(axis=1)[0]\n"
     ]
    }
   ],
   "source": [
    "chosen = ensemble_m2[['SVM_rbf', 'xgboost', 'SVM_linear', 'lasso', 'LDA']]\n",
    "chosen['majority_vote'] = chosen.mode(axis=1)[0]"
   ]
  },
  {
   "cell_type": "code",
   "execution_count": 235,
   "id": "b28d52f9",
   "metadata": {
    "ExecuteTime": {
     "end_time": "2023-04-15T04:05:02.465868Z",
     "start_time": "2023-04-15T04:05:02.446828Z"
    }
   },
   "outputs": [
    {
     "name": "stderr",
     "output_type": "stream",
     "text": [
      "<ipython-input-235-dac84e565d9a>:1: SettingWithCopyWarning: \n",
      "A value is trying to be set on a copy of a slice from a DataFrame.\n",
      "Try using .loc[row_indexer,col_indexer] = value instead\n",
      "\n",
      "See the caveats in the documentation: https://pandas.pydata.org/pandas-docs/stable/user_guide/indexing.html#returning-a-view-versus-a-copy\n",
      "  chosen['majority_vote'] = chosen['majority_vote'].astype(int)\n",
      "<ipython-input-235-dac84e565d9a>:2: SettingWithCopyWarning: \n",
      "A value is trying to be set on a copy of a slice from a DataFrame.\n",
      "Try using .loc[row_indexer,col_indexer] = value instead\n",
      "\n",
      "See the caveats in the documentation: https://pandas.pydata.org/pandas-docs/stable/user_guide/indexing.html#returning-a-view-versus-a-copy\n",
      "  chosen['true'] = y_test_m.reset_index(drop=True)\n"
     ]
    },
    {
     "data": {
      "text/html": [
       "<div>\n",
       "<style scoped>\n",
       "    .dataframe tbody tr th:only-of-type {\n",
       "        vertical-align: middle;\n",
       "    }\n",
       "\n",
       "    .dataframe tbody tr th {\n",
       "        vertical-align: top;\n",
       "    }\n",
       "\n",
       "    .dataframe thead th {\n",
       "        text-align: right;\n",
       "    }\n",
       "</style>\n",
       "<table border=\"1\" class=\"dataframe\">\n",
       "  <thead>\n",
       "    <tr style=\"text-align: right;\">\n",
       "      <th></th>\n",
       "      <th>SVM_rbf</th>\n",
       "      <th>xgboost</th>\n",
       "      <th>SVM_linear</th>\n",
       "      <th>lasso</th>\n",
       "      <th>LDA</th>\n",
       "      <th>majority_vote</th>\n",
       "      <th>true</th>\n",
       "    </tr>\n",
       "  </thead>\n",
       "  <tbody>\n",
       "    <tr>\n",
       "      <th>0</th>\n",
       "      <td>5</td>\n",
       "      <td>5</td>\n",
       "      <td>5</td>\n",
       "      <td>5</td>\n",
       "      <td>5</td>\n",
       "      <td>5</td>\n",
       "      <td>5</td>\n",
       "    </tr>\n",
       "    <tr>\n",
       "      <th>1</th>\n",
       "      <td>4</td>\n",
       "      <td>4</td>\n",
       "      <td>4</td>\n",
       "      <td>4</td>\n",
       "      <td>4</td>\n",
       "      <td>4</td>\n",
       "      <td>4</td>\n",
       "    </tr>\n",
       "    <tr>\n",
       "      <th>2</th>\n",
       "      <td>5</td>\n",
       "      <td>5</td>\n",
       "      <td>5</td>\n",
       "      <td>5</td>\n",
       "      <td>5</td>\n",
       "      <td>5</td>\n",
       "      <td>5</td>\n",
       "    </tr>\n",
       "    <tr>\n",
       "      <th>3</th>\n",
       "      <td>4</td>\n",
       "      <td>4</td>\n",
       "      <td>4</td>\n",
       "      <td>4</td>\n",
       "      <td>4</td>\n",
       "      <td>4</td>\n",
       "      <td>4</td>\n",
       "    </tr>\n",
       "    <tr>\n",
       "      <th>4</th>\n",
       "      <td>3</td>\n",
       "      <td>3</td>\n",
       "      <td>3</td>\n",
       "      <td>3</td>\n",
       "      <td>3</td>\n",
       "      <td>3</td>\n",
       "      <td>3</td>\n",
       "    </tr>\n",
       "    <tr>\n",
       "      <th>...</th>\n",
       "      <td>...</td>\n",
       "      <td>...</td>\n",
       "      <td>...</td>\n",
       "      <td>...</td>\n",
       "      <td>...</td>\n",
       "      <td>...</td>\n",
       "      <td>...</td>\n",
       "    </tr>\n",
       "    <tr>\n",
       "      <th>2326</th>\n",
       "      <td>6</td>\n",
       "      <td>6</td>\n",
       "      <td>6</td>\n",
       "      <td>6</td>\n",
       "      <td>6</td>\n",
       "      <td>6</td>\n",
       "      <td>6</td>\n",
       "    </tr>\n",
       "    <tr>\n",
       "      <th>2327</th>\n",
       "      <td>4</td>\n",
       "      <td>4</td>\n",
       "      <td>4</td>\n",
       "      <td>4</td>\n",
       "      <td>4</td>\n",
       "      <td>4</td>\n",
       "      <td>4</td>\n",
       "    </tr>\n",
       "    <tr>\n",
       "      <th>2328</th>\n",
       "      <td>6</td>\n",
       "      <td>6</td>\n",
       "      <td>6</td>\n",
       "      <td>6</td>\n",
       "      <td>6</td>\n",
       "      <td>6</td>\n",
       "      <td>6</td>\n",
       "    </tr>\n",
       "    <tr>\n",
       "      <th>2329</th>\n",
       "      <td>6</td>\n",
       "      <td>6</td>\n",
       "      <td>6</td>\n",
       "      <td>6</td>\n",
       "      <td>6</td>\n",
       "      <td>6</td>\n",
       "      <td>6</td>\n",
       "    </tr>\n",
       "    <tr>\n",
       "      <th>2330</th>\n",
       "      <td>1</td>\n",
       "      <td>1</td>\n",
       "      <td>1</td>\n",
       "      <td>1</td>\n",
       "      <td>1</td>\n",
       "      <td>1</td>\n",
       "      <td>1</td>\n",
       "    </tr>\n",
       "  </tbody>\n",
       "</table>\n",
       "<p>2331 rows × 7 columns</p>\n",
       "</div>"
      ],
      "text/plain": [
       "      SVM_rbf  xgboost  SVM_linear  lasso  LDA  majority_vote  true\n",
       "0           5        5           5      5    5              5     5\n",
       "1           4        4           4      4    4              4     4\n",
       "2           5        5           5      5    5              5     5\n",
       "3           4        4           4      4    4              4     4\n",
       "4           3        3           3      3    3              3     3\n",
       "...       ...      ...         ...    ...  ...            ...   ...\n",
       "2326        6        6           6      6    6              6     6\n",
       "2327        4        4           4      4    4              4     4\n",
       "2328        6        6           6      6    6              6     6\n",
       "2329        6        6           6      6    6              6     6\n",
       "2330        1        1           1      1    1              1     1\n",
       "\n",
       "[2331 rows x 7 columns]"
      ]
     },
     "execution_count": 235,
     "metadata": {},
     "output_type": "execute_result"
    }
   ],
   "source": [
    "chosen['majority_vote'] = chosen['majority_vote'].astype(int)\n",
    "chosen['true'] = y_test_m.reset_index(drop=True)\n",
    "chosen"
   ]
  },
  {
   "cell_type": "code",
   "execution_count": 236,
   "id": "b18b6f18",
   "metadata": {
    "ExecuteTime": {
     "end_time": "2023-04-15T04:05:07.524894Z",
     "start_time": "2023-04-15T04:05:07.519409Z"
    }
   },
   "outputs": [
    {
     "data": {
      "text/plain": [
       "0.9901329901329902"
      ]
     },
     "execution_count": 236,
     "metadata": {},
     "output_type": "execute_result"
    }
   ],
   "source": [
    "correct_predictions = chosen[chosen['majority_vote'] == chosen['true']].shape[0]\n",
    "total_predictions = chosen.shape[0]\n",
    "correct_predictions / total_predictions"
   ]
  },
  {
   "cell_type": "markdown",
   "id": "1f1fa8cc",
   "metadata": {},
   "source": [
    "chosen models: 'SVM_rbf', 'xgboost', 'RF_fs', 'lasso', 'knn', 'LDA' acc:0.99399 <br>\n",
    "chosen models: 'SVM_rbf', 'xgboost', 'RF_fs', 'lasso' acc:0.99356 <br>\n",
    "chosen models: 'SVM_linear', 'xgboost', 'RF_fs', 'lasso', 'knn', acc:0.9927 <br>\n",
    "chosen models: 'SVM_rbf', 'xgboost', 'RF', 'lasso', 'knn' acc:0.9931 <br>\n",
    "chosen models: 'SVM_rbf', 'xgboost', 'RF_fs', 'ridge', 'knn', 'LDA' acc:0.9944"
   ]
  },
  {
   "cell_type": "code",
   "execution_count": null,
   "id": "81e8c4cb",
   "metadata": {},
   "outputs": [],
   "source": []
  }
 ],
 "metadata": {
  "kernelspec": {
   "display_name": "Python 3",
   "language": "python",
   "name": "python3"
  },
  "language_info": {
   "codemirror_mode": {
    "name": "ipython",
    "version": 3
   },
   "file_extension": ".py",
   "mimetype": "text/x-python",
   "name": "python",
   "nbconvert_exporter": "python",
   "pygments_lexer": "ipython3",
   "version": "3.8.3"
  },
  "toc": {
   "base_numbering": 1,
   "nav_menu": {},
   "number_sections": true,
   "sideBar": true,
   "skip_h1_title": false,
   "title_cell": "Table of Contents",
   "title_sidebar": "Contents",
   "toc_cell": false,
   "toc_position": {},
   "toc_section_display": true,
   "toc_window_display": false
  },
  "varInspector": {
   "cols": {
    "lenName": 16,
    "lenType": 16,
    "lenVar": 40
   },
   "kernels_config": {
    "python": {
     "delete_cmd_postfix": "",
     "delete_cmd_prefix": "del ",
     "library": "var_list.py",
     "varRefreshCmd": "print(var_dic_list())"
    },
    "r": {
     "delete_cmd_postfix": ") ",
     "delete_cmd_prefix": "rm(",
     "library": "var_list.r",
     "varRefreshCmd": "cat(var_dic_list()) "
    }
   },
   "types_to_exclude": [
    "module",
    "function",
    "builtin_function_or_method",
    "instance",
    "_Feature"
   ],
   "window_display": false
  }
 },
 "nbformat": 4,
 "nbformat_minor": 5
}
